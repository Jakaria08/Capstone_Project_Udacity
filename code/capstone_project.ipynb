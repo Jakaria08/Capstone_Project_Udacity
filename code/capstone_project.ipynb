{
  "nbformat": 4,
  "nbformat_minor": 0,
  "metadata": {
    "kernelspec": {
      "display_name": "Python 3",
      "language": "python",
      "name": "python3"
    },
    "language_info": {
      "codemirror_mode": {
        "name": "ipython",
        "version": 3
      },
      "file_extension": ".py",
      "mimetype": "text/x-python",
      "name": "python",
      "nbconvert_exporter": "python",
      "pygments_lexer": "ipython3",
      "version": "3.6.3"
    },
    "colab": {
      "name": "capstone_project.ipynb",
      "provenance": [],
      "collapsed_sections": []
    }
  },
  "cells": [
    {
      "cell_type": "code",
      "metadata": {
        "id": "xg5YBogQdUFE"
      },
      "source": [
        "from sklearn.svm import SVC\n",
        "from sklearn.linear_model import LogisticRegression\n",
        "from sklearn.neural_network import MLPClassifier\n",
        "from sklearn.model_selection import GridSearchCV\n",
        "from sklearn.metrics import accuracy_score\n",
        "from sklearn.metrics import precision_score\n",
        "from sklearn.metrics import recall_score\n",
        "from sklearn.metrics import f1_score\n",
        "from sklearn.metrics import classification_report\n",
        "from sklearn.feature_selection import SelectKBest\n",
        "from sklearn.feature_selection import f_classif\n",
        "from sklearn.utils import shuffle\n",
        "from sklearn.manifold import TSNE\n",
        "from scipy import stats\n",
        "from scipy.stats import ttest_ind\n",
        "from collections import Counter\n",
        "import pandas as pd\n",
        "import numpy as np\n",
        "import matplotlib.pyplot as plt\n",
        "import seaborn as sns\n",
        "from mlxtend.evaluate import paired_ttest_5x2cv\n",
        "%matplotlib inline"
      ],
      "execution_count": 1,
      "outputs": []
    },
    {
      "cell_type": "code",
      "metadata": {
        "id": "LxZpMSp6dapy",
        "outputId": "2b767af7-8097-4598-f9fe-ef8f69390816",
        "colab": {
          "base_uri": "https://localhost:8080/"
        }
      },
      "source": [
        "from google.colab import drive\n",
        "drive.mount('/content/drive')"
      ],
      "execution_count": 2,
      "outputs": [
        {
          "output_type": "stream",
          "text": [
            "Mounted at /content/drive\n"
          ],
          "name": "stdout"
        }
      ]
    },
    {
      "cell_type": "code",
      "metadata": {
        "id": "YBM8aYZddeGx"
      },
      "source": [
        "data_train = pd.read_csv('/content/drive/My Drive/Project/data/human-activity-recognition-with-smartphones/train.csv')\n",
        "data_test = pd.read_csv('/content/drive/My Drive/Project/data/human-activity-recognition-with-smartphones/test.csv')"
      ],
      "execution_count": 3,
      "outputs": []
    },
    {
      "cell_type": "code",
      "metadata": {
        "id": "12XlHZopdUFU",
        "outputId": "8759f7ac-0a82-4181-d759-2be91d869662",
        "colab": {
          "base_uri": "https://localhost:8080/"
        }
      },
      "source": [
        "data_train.shape"
      ],
      "execution_count": 5,
      "outputs": [
        {
          "output_type": "execute_result",
          "data": {
            "text/plain": [
              "(7352, 563)"
            ]
          },
          "metadata": {
            "tags": []
          },
          "execution_count": 5
        }
      ]
    },
    {
      "cell_type": "code",
      "metadata": {
        "id": "a2WBietfdUFa",
        "outputId": "8c25f20e-32d4-4f0d-e0cf-e77e3f535a97",
        "colab": {
          "base_uri": "https://localhost:8080/"
        }
      },
      "source": [
        "data_test.shape"
      ],
      "execution_count": 6,
      "outputs": [
        {
          "output_type": "execute_result",
          "data": {
            "text/plain": [
              "(2947, 563)"
            ]
          },
          "metadata": {
            "tags": []
          },
          "execution_count": 6
        }
      ]
    },
    {
      "cell_type": "code",
      "metadata": {
        "id": "0GzddA4WdiKn",
        "outputId": "d1c0b2cb-4eaf-484b-b4f1-10f28314258e",
        "colab": {
          "base_uri": "https://localhost:8080/"
        }
      },
      "source": [
        "#if any duplicate value\n",
        "print('train : ',sum(data_train.duplicated()))\n",
        "print('test : ', sum(data_test.duplicated()))"
      ],
      "execution_count": 7,
      "outputs": [
        {
          "output_type": "stream",
          "text": [
            "train :  0\n",
            "test :  0\n"
          ],
          "name": "stdout"
        }
      ]
    },
    {
      "cell_type": "code",
      "metadata": {
        "id": "km_PVodVdjB-",
        "outputId": "55dc8ca9-42d5-43d1-fdfe-ec07928d6842",
        "colab": {
          "base_uri": "https://localhost:8080/"
        }
      },
      "source": [
        "#if any null value\n",
        "print('train : ', data_train.isna().values.sum())\n",
        "print('test : ', data_test.isna().values.sum())"
      ],
      "execution_count": 8,
      "outputs": [
        {
          "output_type": "stream",
          "text": [
            "train :  0\n",
            "test :  0\n"
          ],
          "name": "stdout"
        }
      ]
    },
    {
      "cell_type": "code",
      "metadata": {
        "id": "h6gSxmaXdk8X",
        "outputId": "ca003a21-6f3c-4c66-b1f0-afc28140abd3",
        "colab": {
          "base_uri": "https://localhost:8080/",
          "height": 588
        }
      },
      "source": [
        "#different activity on train data\n",
        "plt.figure(figsize=(12,8))\n",
        "plt.title('Count per Activity')\n",
        "sns.countplot(data_train.Activity)"
      ],
      "execution_count": 9,
      "outputs": [
        {
          "output_type": "stream",
          "text": [
            "/usr/local/lib/python3.6/dist-packages/seaborn/_decorators.py:43: FutureWarning: Pass the following variable as a keyword arg: x. From version 0.12, the only valid positional argument will be `data`, and passing other arguments without an explicit keyword will result in an error or misinterpretation.\n",
            "  FutureWarning\n"
          ],
          "name": "stderr"
        },
        {
          "output_type": "execute_result",
          "data": {
            "text/plain": [
              "<matplotlib.axes._subplots.AxesSubplot at 0x7f1f552ee9b0>"
            ]
          },
          "metadata": {
            "tags": []
          },
          "execution_count": 9
        },
        {
          "output_type": "display_data",
          "data": {
            "image/png": "[encoded data removed]",
            "text/plain": [
              "<Figure size 864x576 with 1 Axes>"
            ]
          },
          "metadata": {
            "tags": [],
            "needs_background": "light"
          }
        }
      ]
    },
    {
      "cell_type": "code",
      "metadata": {
        "id": "hlvlTzUjdmsk",
        "outputId": "733a2594-3748-4090-c42e-13e9e4cc8051",
        "colab": {
          "base_uri": "https://localhost:8080/",
          "height": 769
        }
      },
      "source": [
        "#static and dynamic activity\n",
        "# some codes are taken from: https://www.kaggle.com/vikashrajluhaniwal/eda-all-classification-algorithms-with-96-acc\n",
        "plt.figure(figsize=(12,8))\n",
        "plt.subplot(1,2,1)\n",
        "plt.title(\"Static Activities\")\n",
        "sns.distplot(data_train[data_train[\"Activity\"]==\"SITTING\"]['tBodyAccMag-mean()'],hist = False, label = 'Sitting')\n",
        "sns.distplot(data_train[data_train[\"Activity\"]==\"STANDING\"]['tBodyAccMag-mean()'],hist = False,label = 'Standing')\n",
        "sns.distplot(data_train[data_train[\"Activity\"]==\"LAYING\"]['tBodyAccMag-mean()'],hist = False, label = 'Laying')\n",
        "plt.axis([-1.02, -0.5, 0, 35])\n",
        "plt.subplot(1,2,2)\n",
        "plt.title(\"Dynamic Activities\")\n",
        "sns.distplot(data_train[data_train[\"Activity\"]==\"WALKING\"]['tBodyAccMag-mean()'],hist = False, label = 'Sitting')\n",
        "sns.distplot(data_train[data_train[\"Activity\"]==\"WALKING_DOWNSTAIRS\"]['tBodyAccMag-mean()'],hist = False,label = 'Standing')\n",
        "sns.distplot(data_train[data_train[\"Activity\"]==\"WALKING_UPSTAIRS\"]['tBodyAccMag-mean()'],hist = False, label = 'Laying')"
      ],
      "execution_count": 10,
      "outputs": [
        {
          "output_type": "stream",
          "text": [
            "/usr/local/lib/python3.6/dist-packages/seaborn/distributions.py:2551: FutureWarning: `distplot` is a deprecated function and will be removed in a future version. Please adapt your code to use either `displot` (a figure-level function with similar flexibility) or `kdeplot` (an axes-level function for kernel density plots).\n",
            "  warnings.warn(msg, FutureWarning)\n",
            "/usr/local/lib/python3.6/dist-packages/seaborn/distributions.py:2551: FutureWarning: `distplot` is a deprecated function and will be removed in a future version. Please adapt your code to use either `displot` (a figure-level function with similar flexibility) or `kdeplot` (an axes-level function for kernel density plots).\n",
            "  warnings.warn(msg, FutureWarning)\n",
            "/usr/local/lib/python3.6/dist-packages/seaborn/distributions.py:2551: FutureWarning: `distplot` is a deprecated function and will be removed in a future version. Please adapt your code to use either `displot` (a figure-level function with similar flexibility) or `kdeplot` (an axes-level function for kernel density plots).\n",
            "  warnings.warn(msg, FutureWarning)\n",
            "/usr/local/lib/python3.6/dist-packages/seaborn/distributions.py:2551: FutureWarning: `distplot` is a deprecated function and will be removed in a future version. Please adapt your code to use either `displot` (a figure-level function with similar flexibility) or `kdeplot` (an axes-level function for kernel density plots).\n",
            "  warnings.warn(msg, FutureWarning)\n",
            "/usr/local/lib/python3.6/dist-packages/seaborn/distributions.py:2551: FutureWarning: `distplot` is a deprecated function and will be removed in a future version. Please adapt your code to use either `displot` (a figure-level function with similar flexibility) or `kdeplot` (an axes-level function for kernel density plots).\n",
            "  warnings.warn(msg, FutureWarning)\n",
            "/usr/local/lib/python3.6/dist-packages/seaborn/distributions.py:2551: FutureWarning: `distplot` is a deprecated function and will be removed in a future version. Please adapt your code to use either `displot` (a figure-level function with similar flexibility) or `kdeplot` (an axes-level function for kernel density plots).\n",
            "  warnings.warn(msg, FutureWarning)\n"
          ],
          "name": "stderr"
        },
        {
          "output_type": "execute_result",
          "data": {
            "text/plain": [
              "<matplotlib.axes._subplots.AxesSubplot at 0x7f1f54b7e4a8>"
            ]
          },
          "metadata": {
            "tags": []
          },
          "execution_count": 10
        },
        {
          "output_type": "display_data",
          "data": {
            "image/png": "[encoded data removed]",
            "text/plain": [
              "<Figure size 864x576 with 2 Axes>"
            ]
          },
          "metadata": {
            "tags": [],
            "needs_background": "light"
          }
        }
      ]
    },
    {
      "cell_type": "code",
      "metadata": {
        "id": "6v-QclQ2dUFe"
      },
      "source": [
        "X_train = data_train.iloc[:, 0:562]\n",
        "Y_train = data_train.iloc[:,562:563]"
      ],
      "execution_count": 11,
      "outputs": []
    },
    {
      "cell_type": "code",
      "metadata": {
        "id": "lTW9FgxEdUFl"
      },
      "source": [
        "X_test = data_test.iloc[:, 0:562]\n",
        "Y_test= data_test.iloc[:,562:563]"
      ],
      "execution_count": 12,
      "outputs": []
    },
    {
      "cell_type": "code",
      "metadata": {
        "id": "YGePNDHadUFr",
        "outputId": "fd11cafa-ebec-4731-95c2-cd7796efef5c"
      },
      "source": [
        "Y_test.shape"
      ],
      "execution_count": null,
      "outputs": [
        {
          "output_type": "execute_result",
          "data": {
            "text/plain": [
              "(2947, 1)"
            ]
          },
          "metadata": {
            "tags": []
          },
          "execution_count": 318
        }
      ]
    },
    {
      "cell_type": "code",
      "metadata": {
        "id": "ocY_gKIldUFx"
      },
      "source": [
        "output_labels = [\"Dummy\",\"STANDING\", \"SITTING\", \"LAYING\",\"WALKING\", \"WALKING_DOWNSTAIRS\", \"WALKING_UPSTAIRS\"]\n",
        "Y_train_all = Y_train['Activity'].apply(output_labels.index)\n",
        "Y_test_all = Y_test['Activity'].apply(output_labels.index)"
      ],
      "execution_count": null,
      "outputs": []
    },
    {
      "cell_type": "code",
      "metadata": {
        "id": "E1SyTsYVdUF1",
        "outputId": "a4f33c9f-fa60-4797-ddee-d427fb0fd898"
      },
      "source": [
        "Y_test_all.shape"
      ],
      "execution_count": null,
      "outputs": [
        {
          "output_type": "execute_result",
          "data": {
            "text/plain": [
              "(2947,)"
            ]
          },
          "metadata": {
            "tags": []
          },
          "execution_count": 320
        }
      ]
    },
    {
      "cell_type": "code",
      "metadata": {
        "id": "jbo2AYQydUF5",
        "outputId": "6fb17100-cc23-4a9a-9b20-52bb31f9d099"
      },
      "source": [
        "# trying to select features by computing ANOVA F-value for the provided sample\n",
        "framesX = [X_train, X_test]\n",
        "resultX = pd.concat(frames)\n",
        "resultX.shape\n",
        "\n",
        "framesY = [Y_train_all, Y_test_all]\n",
        "resultY = pd.concat(framesY)\n",
        "resultY.shape\n",
        "\n",
        "X_new = SelectKBest(f_classif, k=550).fit_transform(resultX, resultY)\n",
        "\n",
        "X_new_train = X_new[0:7352,:]\n",
        "X_new_test = X_new[7352:10299,:]\n",
        "\n",
        "model_SVM = SVC(kernel='linear', C=0.1).fit(X_new_train, Y_train_all)\n",
        "y_predict = model_SVM.predict(X_new_test)\n",
        "print('Accuracy score:', accuracy_score(Y_test_all, y_predict))"
      ],
      "execution_count": null,
      "outputs": [
        {
          "output_type": "stream",
          "text": [
            "Accuracy score: 0.961316593146\n"
          ],
          "name": "stdout"
        }
      ]
    },
    {
      "cell_type": "code",
      "metadata": {
        "id": "IiQLUs_-dUF9"
      },
      "source": [
        "models = [\n",
        "    SVC(),\n",
        "    MLPClassifier(),\n",
        "    LogisticRegression()\n",
        "         ]"
      ],
      "execution_count": null,
      "outputs": []
    },
    {
      "cell_type": "code",
      "metadata": {
        "id": "rEthXoDfdUGB",
        "outputId": "897731f5-a7f7-4bf9-f118-bc2804294b31"
      },
      "source": [
        "# Three models with sklearn default parameter \n",
        "model_name = []\n",
        "model_scores = []\n",
        "\n",
        "for model in models:\n",
        "    model_out = model.fit(X_train, Y_train_all)\n",
        "    prediction = model_out.predict(X_test)\n",
        "    \n",
        "    model_name.append(model_out.__class__.__name__)\n",
        "    model_scores.append(accuracy_score(prediction, Y_test_all))\n",
        "\n",
        "all_score = pd.DataFrame({'Model': model_name, 'Score': model_scores}).set_index('Model')\n",
        "all_score"
      ],
      "execution_count": null,
      "outputs": [
        {
          "output_type": "execute_result",
          "data": {
            "text/html": [
              "<div>\n",
              "<style>\n",
              "    .dataframe thead tr:only-child th {\n",
              "        text-align: right;\n",
              "    }\n",
              "\n",
              "    .dataframe thead th {\n",
              "        text-align: left;\n",
              "    }\n",
              "\n",
              "    .dataframe tbody tr th {\n",
              "        vertical-align: top;\n",
              "    }\n",
              "</style>\n",
              "<table border=\"1\" class=\"dataframe\">\n",
              "  <thead>\n",
              "    <tr style=\"text-align: right;\">\n",
              "      <th></th>\n",
              "      <th>Score</th>\n",
              "    </tr>\n",
              "    <tr>\n",
              "      <th>Model</th>\n",
              "      <th></th>\n",
              "    </tr>\n",
              "  </thead>\n",
              "  <tbody>\n",
              "    <tr>\n",
              "      <th>SVC</th>\n",
              "      <td>0.930777</td>\n",
              "    </tr>\n",
              "    <tr>\n",
              "      <th>MLPClassifier</th>\n",
              "      <td>0.934849</td>\n",
              "    </tr>\n",
              "    <tr>\n",
              "      <th>LogisticRegression</th>\n",
              "      <td>0.961317</td>\n",
              "    </tr>\n",
              "  </tbody>\n",
              "</table>\n",
              "</div>"
            ],
            "text/plain": [
              "                       Score\n",
              "Model                       \n",
              "SVC                 0.930777\n",
              "MLPClassifier       0.934849\n",
              "LogisticRegression  0.961317"
            ]
          },
          "metadata": {
            "tags": []
          },
          "execution_count": 137
        }
      ]
    },
    {
      "cell_type": "code",
      "metadata": {
        "id": "BlDI0jE-dUGF",
        "outputId": "47214f6c-d834-4ef1-81d2-09646821ac98"
      },
      "source": [
        "# Three models with sklearn default parameter \n",
        "model_name = []\n",
        "model_scores = []\n",
        "\n",
        "for model in models:\n",
        "    model_out = model.fit(X_train, Y_train_all)\n",
        "    prediction = model_out.predict(X_test)\n",
        "    \n",
        "    model_name.append(model_out.__class__.__name__)\n",
        "    model_scores.append(accuracy_score(prediction, Y_test_all))\n",
        "\n",
        "all_score = pd.DataFrame({'Model': model_name, 'Score': model_scores}).set_index('Model')\n",
        "all_score"
      ],
      "execution_count": null,
      "outputs": [
        {
          "output_type": "execute_result",
          "data": {
            "text/html": [
              "<div>\n",
              "<style>\n",
              "    .dataframe thead tr:only-child th {\n",
              "        text-align: right;\n",
              "    }\n",
              "\n",
              "    .dataframe thead th {\n",
              "        text-align: left;\n",
              "    }\n",
              "\n",
              "    .dataframe tbody tr th {\n",
              "        vertical-align: top;\n",
              "    }\n",
              "</style>\n",
              "<table border=\"1\" class=\"dataframe\">\n",
              "  <thead>\n",
              "    <tr style=\"text-align: right;\">\n",
              "      <th></th>\n",
              "      <th>Score</th>\n",
              "    </tr>\n",
              "    <tr>\n",
              "      <th>Model</th>\n",
              "      <th></th>\n",
              "    </tr>\n",
              "  </thead>\n",
              "  <tbody>\n",
              "    <tr>\n",
              "      <th>SVC</th>\n",
              "      <td>0.930777</td>\n",
              "    </tr>\n",
              "    <tr>\n",
              "      <th>MLPClassifier</th>\n",
              "      <td>0.946047</td>\n",
              "    </tr>\n",
              "    <tr>\n",
              "      <th>LogisticRegression</th>\n",
              "      <td>0.961317</td>\n",
              "    </tr>\n",
              "  </tbody>\n",
              "</table>\n",
              "</div>"
            ],
            "text/plain": [
              "                       Score\n",
              "Model                       \n",
              "SVC                 0.930777\n",
              "MLPClassifier       0.946047\n",
              "LogisticRegression  0.961317"
            ]
          },
          "metadata": {
            "tags": []
          },
          "execution_count": 138
        }
      ]
    },
    {
      "cell_type": "code",
      "metadata": {
        "id": "r2TvXj0_dUGL",
        "outputId": "0e6b5af2-dc2a-44b3-b7c3-ec8da69f518b"
      },
      "source": [
        "# Finding best parameter for SVM\n",
        "\n",
        "parameters = {\n",
        "    'kernel': ['linear', 'rbf', 'sigmoid'],\n",
        "    'C': [100, 10, 5, 2, 1, 0.5, 0.1]\n",
        "}\n",
        "\n",
        "selector = GridSearchCV(SVC(), parameters, scoring='accuracy', cv = 5) # Stratified 5 fold\n",
        "selector.fit(X_train, Y_train_all)\n",
        "\n",
        "print('Best parameter set found:')\n",
        "print(selector.best_params_)\n",
        "\n",
        "print('Detailed grid scores:')\n",
        "means = selector.cv_results_['mean_test_score']\n",
        "stds = selector.cv_results_['std_test_score']\n",
        "\n",
        "for mean, std, params in zip(means, stds, selector.cv_results_['params']):\n",
        "    print('%0.3f (+/-%0.03f) for %r' % (mean, std * 2, params))\n",
        "    print()"
      ],
      "execution_count": null,
      "outputs": [
        {
          "output_type": "stream",
          "text": [
            "Best parameter set found:\n",
            "{'C': 0.1, 'kernel': 'linear'}\n",
            "Detailed grid scores:\n",
            "0.931 (+/-0.055) for {'C': 100, 'kernel': 'linear'}\n",
            "\n",
            "0.884 (+/-0.120) for {'C': 100, 'kernel': 'rbf'}\n",
            "\n",
            "0.246 (+/-0.148) for {'C': 100, 'kernel': 'sigmoid'}\n",
            "\n",
            "0.933 (+/-0.057) for {'C': 10, 'kernel': 'linear'}\n",
            "\n",
            "0.889 (+/-0.097) for {'C': 10, 'kernel': 'rbf'}\n",
            "\n",
            "0.246 (+/-0.149) for {'C': 10, 'kernel': 'sigmoid'}\n",
            "\n",
            "0.933 (+/-0.054) for {'C': 5, 'kernel': 'linear'}\n",
            "\n",
            "0.895 (+/-0.089) for {'C': 5, 'kernel': 'rbf'}\n",
            "\n",
            "0.240 (+/-0.149) for {'C': 5, 'kernel': 'sigmoid'}\n",
            "\n",
            "0.935 (+/-0.056) for {'C': 2, 'kernel': 'linear'}\n",
            "\n",
            "0.890 (+/-0.072) for {'C': 2, 'kernel': 'rbf'}\n",
            "\n",
            "0.240 (+/-0.152) for {'C': 2, 'kernel': 'sigmoid'}\n",
            "\n",
            "0.936 (+/-0.057) for {'C': 1, 'kernel': 'linear'}\n",
            "\n",
            "0.884 (+/-0.058) for {'C': 1, 'kernel': 'rbf'}\n",
            "\n",
            "0.245 (+/-0.163) for {'C': 1, 'kernel': 'sigmoid'}\n",
            "\n",
            "0.936 (+/-0.057) for {'C': 0.5, 'kernel': 'linear'}\n",
            "\n",
            "0.879 (+/-0.043) for {'C': 0.5, 'kernel': 'rbf'}\n",
            "\n",
            "0.255 (+/-0.172) for {'C': 0.5, 'kernel': 'sigmoid'}\n",
            "\n",
            "0.936 (+/-0.055) for {'C': 0.1, 'kernel': 'linear'}\n",
            "\n",
            "0.803 (+/-0.152) for {'C': 0.1, 'kernel': 'rbf'}\n",
            "\n",
            "0.496 (+/-0.283) for {'C': 0.1, 'kernel': 'sigmoid'}\n",
            "\n"
          ],
          "name": "stdout"
        }
      ]
    },
    {
      "cell_type": "code",
      "metadata": {
        "id": "A_0suLM2dUGQ",
        "outputId": "e5f88d74-2bcc-406b-a152-8b2ec44aa230"
      },
      "source": [
        "# testing with best parameters\n",
        "model_SVM = SVC(kernel='linear', C=0.1).fit(X_train, Y_train_all)\n",
        "y_predict_SVM = model_SVM.predict(X_test)\n",
        "print('Accuracy score:', accuracy_score(Y_test_all, y_predict_SVM))"
      ],
      "execution_count": null,
      "outputs": [
        {
          "output_type": "stream",
          "text": [
            "Accuracy score: 0.961995249406\n"
          ],
          "name": "stdout"
        }
      ]
    },
    {
      "cell_type": "code",
      "metadata": {
        "id": "WGV0ZoS-dUGT",
        "outputId": "66193522-3f8a-4658-bb89-1ef1eadc747e"
      },
      "source": [
        "# testing with best parameters.. average performance\n",
        "avg_svm = 0\n",
        "avg_svm_precision = 0\n",
        "avg_svm_recall = 0\n",
        "avg_svm_f1 = 0\n",
        "\n",
        "for i in range(5):\n",
        "    X_train, Y_train_all = shuffle(X_train, Y_train_all, random_state=0)\n",
        "    X_test, Y_test_all = shuffle(X_test, Y_test_all, random_state=0)\n",
        "    model_SVM = SVC(kernel='linear', C=1.0).fit(X_train, Y_train_all)\n",
        "    y_predict_SVM = model_SVM.predict(X_test)\n",
        "    print('Accuracy score:', accuracy_score(Y_test_all, y_predict_SVM))\n",
        "    \n",
        "    avg_svm = avg_svm + accuracy_score(Y_test_all, y_predict_SVM)\n",
        "    avg_svm_precision = avg_svm_precision + precision_score(Y_test_all, y_predict_SVM, average = 'weighted')\n",
        "    avg_svm_recall = avg_svm_recall + recall_score(Y_test_all, y_predict_SVM, average = 'weighted')\n",
        "    avg_svm_f1 = avg_svm_f1 + f1_score(Y_test_all, y_predict_SVM, average = 'weighted')\n",
        "    \n",
        "print(avg_svm/5, avg_svm_precision/5, avg_svm_recall/5, avg_svm_f1/5)"
      ],
      "execution_count": null,
      "outputs": [
        {
          "output_type": "stream",
          "text": [
            "Accuracy score: 0.963352561927\n",
            "Accuracy score: 0.963352561927\n",
            "Accuracy score: 0.963352561927\n",
            "Accuracy score: 0.963352561927\n",
            "Accuracy score: 0.963352561927\n",
            "0.963352561927 0.964440221429 0.963352561927 0.963259646951\n"
          ],
          "name": "stdout"
        }
      ]
    },
    {
      "cell_type": "code",
      "metadata": {
        "id": "RZ-rSU0AdUGY",
        "outputId": "383041f2-e0c5-41d9-9647-fb740fb823b6"
      },
      "source": [
        "# testing with best parameters\n",
        "model_SVM = SVC(kernel='linear', C=1.0).fit(X_train, Y_train_all)\n",
        "y_predict_SVM = model_SVM.predict(X_test)\n",
        "print('Accuracy score:', accuracy_score(Y_test_all, y_predict_SVM))\n",
        "print(classification_report(Y_test_all, y_predict_SVM))"
      ],
      "execution_count": null,
      "outputs": [
        {
          "output_type": "stream",
          "text": [
            "Accuracy score: 0.963352561927\n",
            "             precision    recall  f1-score   support\n",
            "\n",
            "          1       0.90      0.97      0.94       532\n",
            "          2       0.96      0.89      0.92       491\n",
            "          3       1.00      1.00      1.00       537\n",
            "          4       0.95      1.00      0.97       496\n",
            "          5       0.99      0.98      0.98       420\n",
            "          6       0.98      0.95      0.97       471\n",
            "\n",
            "avg / total       0.96      0.96      0.96      2947\n",
            "\n"
          ],
          "name": "stdout"
        }
      ]
    },
    {
      "cell_type": "code",
      "metadata": {
        "id": "BqaqxbYQdUGc",
        "outputId": "a1999f14-63dc-48f8-902f-4ee796d6d455"
      },
      "source": [
        "# Finding best parameter for ANN\n",
        "\n",
        "parameters = {\n",
        "    'hidden_layer_sizes': [(10,),(50,),(100,),(1000,)],\n",
        "    'alpha': [1e-4, 1e-3, 1e-2],\n",
        "    'learning_rate_init': [1e-3, 1e-2, 1e-1],\n",
        "    'beta_1' : [0.1, 0.5, 0.9],\n",
        "    'beta_2' : [0.1, 0.5, 0.9]\n",
        "}\n",
        "\n",
        "selector = GridSearchCV(MLPClassifier(), parameters, scoring='accuracy', cv = 5) # Stratified 5 fold\n",
        "selector.fit(X_train, Y_train_all)\n",
        "\n",
        "print('Best parameter set found:')\n",
        "print(selector.best_params_)\n",
        "\n",
        "print('Detailed grid scores:')\n",
        "means = selector.cv_results_['mean_test_score']\n",
        "stds = selector.cv_results_['std_test_score']\n",
        "\n",
        "for mean, std, params in zip(means, stds, selector.cv_results_['params']):\n",
        "    print('%0.3f (+/-%0.03f) for %r' % (mean, std * 2, params))\n",
        "    print()"
      ],
      "execution_count": null,
      "outputs": [
        {
          "output_type": "stream",
          "text": [
            "Best parameter set found:\n",
            "{'alpha': 0.01, 'beta_1': 0.9, 'beta_2': 0.9, 'hidden_layer_sizes': (50,), 'learning_rate_init': 0.001}\n",
            "Detailed grid scores:\n",
            "0.921 (+/-0.040) for {'alpha': 0.0001, 'beta_1': 0.1, 'beta_2': 0.1, 'hidden_layer_sizes': (10,), 'learning_rate_init': 0.001}\n",
            "\n",
            "0.890 (+/-0.083) for {'alpha': 0.0001, 'beta_1': 0.1, 'beta_2': 0.1, 'hidden_layer_sizes': (10,), 'learning_rate_init': 0.01}\n",
            "\n",
            "0.504 (+/-0.131) for {'alpha': 0.0001, 'beta_1': 0.1, 'beta_2': 0.1, 'hidden_layer_sizes': (10,), 'learning_rate_init': 0.1}\n",
            "\n",
            "0.919 (+/-0.044) for {'alpha': 0.0001, 'beta_1': 0.1, 'beta_2': 0.1, 'hidden_layer_sizes': (50,), 'learning_rate_init': 0.001}\n",
            "\n",
            "0.895 (+/-0.043) for {'alpha': 0.0001, 'beta_1': 0.1, 'beta_2': 0.1, 'hidden_layer_sizes': (50,), 'learning_rate_init': 0.01}\n",
            "\n",
            "0.698 (+/-0.130) for {'alpha': 0.0001, 'beta_1': 0.1, 'beta_2': 0.1, 'hidden_layer_sizes': (50,), 'learning_rate_init': 0.1}\n",
            "\n",
            "0.914 (+/-0.071) for {'alpha': 0.0001, 'beta_1': 0.1, 'beta_2': 0.1, 'hidden_layer_sizes': (100,), 'learning_rate_init': 0.001}\n",
            "\n",
            "0.899 (+/-0.075) for {'alpha': 0.0001, 'beta_1': 0.1, 'beta_2': 0.1, 'hidden_layer_sizes': (100,), 'learning_rate_init': 0.01}\n",
            "\n",
            "0.811 (+/-0.167) for {'alpha': 0.0001, 'beta_1': 0.1, 'beta_2': 0.1, 'hidden_layer_sizes': (100,), 'learning_rate_init': 0.1}\n",
            "\n",
            "0.914 (+/-0.060) for {'alpha': 0.0001, 'beta_1': 0.1, 'beta_2': 0.1, 'hidden_layer_sizes': (1000,), 'learning_rate_init': 0.001}\n",
            "\n",
            "0.889 (+/-0.061) for {'alpha': 0.0001, 'beta_1': 0.1, 'beta_2': 0.1, 'hidden_layer_sizes': (1000,), 'learning_rate_init': 0.01}\n",
            "\n",
            "0.875 (+/-0.042) for {'alpha': 0.0001, 'beta_1': 0.1, 'beta_2': 0.1, 'hidden_layer_sizes': (1000,), 'learning_rate_init': 0.1}\n",
            "\n",
            "0.924 (+/-0.060) for {'alpha': 0.0001, 'beta_1': 0.1, 'beta_2': 0.5, 'hidden_layer_sizes': (10,), 'learning_rate_init': 0.001}\n",
            "\n",
            "0.889 (+/-0.111) for {'alpha': 0.0001, 'beta_1': 0.1, 'beta_2': 0.5, 'hidden_layer_sizes': (10,), 'learning_rate_init': 0.01}\n",
            "\n",
            "0.523 (+/-0.134) for {'alpha': 0.0001, 'beta_1': 0.1, 'beta_2': 0.5, 'hidden_layer_sizes': (10,), 'learning_rate_init': 0.1}\n",
            "\n",
            "0.928 (+/-0.066) for {'alpha': 0.0001, 'beta_1': 0.1, 'beta_2': 0.5, 'hidden_layer_sizes': (50,), 'learning_rate_init': 0.001}\n",
            "\n",
            "0.921 (+/-0.057) for {'alpha': 0.0001, 'beta_1': 0.1, 'beta_2': 0.5, 'hidden_layer_sizes': (50,), 'learning_rate_init': 0.01}\n",
            "\n",
            "0.538 (+/-0.115) for {'alpha': 0.0001, 'beta_1': 0.1, 'beta_2': 0.5, 'hidden_layer_sizes': (50,), 'learning_rate_init': 0.1}\n",
            "\n",
            "0.926 (+/-0.046) for {'alpha': 0.0001, 'beta_1': 0.1, 'beta_2': 0.5, 'hidden_layer_sizes': (100,), 'learning_rate_init': 0.001}\n",
            "\n",
            "0.910 (+/-0.050) for {'alpha': 0.0001, 'beta_1': 0.1, 'beta_2': 0.5, 'hidden_layer_sizes': (100,), 'learning_rate_init': 0.01}\n",
            "\n",
            "0.556 (+/-0.237) for {'alpha': 0.0001, 'beta_1': 0.1, 'beta_2': 0.5, 'hidden_layer_sizes': (100,), 'learning_rate_init': 0.1}\n",
            "\n",
            "0.899 (+/-0.063) for {'alpha': 0.0001, 'beta_1': 0.1, 'beta_2': 0.5, 'hidden_layer_sizes': (1000,), 'learning_rate_init': 0.001}\n",
            "\n",
            "0.915 (+/-0.057) for {'alpha': 0.0001, 'beta_1': 0.1, 'beta_2': 0.5, 'hidden_layer_sizes': (1000,), 'learning_rate_init': 0.01}\n",
            "\n",
            "0.670 (+/-0.257) for {'alpha': 0.0001, 'beta_1': 0.1, 'beta_2': 0.5, 'hidden_layer_sizes': (1000,), 'learning_rate_init': 0.1}\n",
            "\n",
            "0.915 (+/-0.046) for {'alpha': 0.0001, 'beta_1': 0.1, 'beta_2': 0.9, 'hidden_layer_sizes': (10,), 'learning_rate_init': 0.001}\n",
            "\n",
            "0.906 (+/-0.045) for {'alpha': 0.0001, 'beta_1': 0.1, 'beta_2': 0.9, 'hidden_layer_sizes': (10,), 'learning_rate_init': 0.01}\n",
            "\n",
            "0.329 (+/-0.111) for {'alpha': 0.0001, 'beta_1': 0.1, 'beta_2': 0.9, 'hidden_layer_sizes': (10,), 'learning_rate_init': 0.1}\n",
            "\n",
            "0.925 (+/-0.039) for {'alpha': 0.0001, 'beta_1': 0.1, 'beta_2': 0.9, 'hidden_layer_sizes': (50,), 'learning_rate_init': 0.001}\n",
            "\n",
            "0.899 (+/-0.072) for {'alpha': 0.0001, 'beta_1': 0.1, 'beta_2': 0.9, 'hidden_layer_sizes': (50,), 'learning_rate_init': 0.01}\n",
            "\n",
            "0.376 (+/-0.118) for {'alpha': 0.0001, 'beta_1': 0.1, 'beta_2': 0.9, 'hidden_layer_sizes': (50,), 'learning_rate_init': 0.1}\n",
            "\n",
            "0.921 (+/-0.045) for {'alpha': 0.0001, 'beta_1': 0.1, 'beta_2': 0.9, 'hidden_layer_sizes': (100,), 'learning_rate_init': 0.001}\n",
            "\n",
            "0.886 (+/-0.100) for {'alpha': 0.0001, 'beta_1': 0.1, 'beta_2': 0.9, 'hidden_layer_sizes': (100,), 'learning_rate_init': 0.01}\n",
            "\n",
            "0.359 (+/-0.107) for {'alpha': 0.0001, 'beta_1': 0.1, 'beta_2': 0.9, 'hidden_layer_sizes': (100,), 'learning_rate_init': 0.1}\n",
            "\n",
            "0.913 (+/-0.058) for {'alpha': 0.0001, 'beta_1': 0.1, 'beta_2': 0.9, 'hidden_layer_sizes': (1000,), 'learning_rate_init': 0.001}\n",
            "\n",
            "0.803 (+/-0.147) for {'alpha': 0.0001, 'beta_1': 0.1, 'beta_2': 0.9, 'hidden_layer_sizes': (1000,), 'learning_rate_init': 0.01}\n",
            "\n",
            "0.505 (+/-0.212) for {'alpha': 0.0001, 'beta_1': 0.1, 'beta_2': 0.9, 'hidden_layer_sizes': (1000,), 'learning_rate_init': 0.1}\n",
            "\n",
            "0.921 (+/-0.024) for {'alpha': 0.0001, 'beta_1': 0.5, 'beta_2': 0.1, 'hidden_layer_sizes': (10,), 'learning_rate_init': 0.001}\n",
            "\n",
            "0.661 (+/-0.351) for {'alpha': 0.0001, 'beta_1': 0.5, 'beta_2': 0.1, 'hidden_layer_sizes': (10,), 'learning_rate_init': 0.01}\n",
            "\n",
            "0.186 (+/-0.012) for {'alpha': 0.0001, 'beta_1': 0.5, 'beta_2': 0.1, 'hidden_layer_sizes': (10,), 'learning_rate_init': 0.1}\n",
            "\n",
            "0.907 (+/-0.043) for {'alpha': 0.0001, 'beta_1': 0.5, 'beta_2': 0.1, 'hidden_layer_sizes': (50,), 'learning_rate_init': 0.001}\n",
            "\n",
            "0.872 (+/-0.107) for {'alpha': 0.0001, 'beta_1': 0.5, 'beta_2': 0.1, 'hidden_layer_sizes': (50,), 'learning_rate_init': 0.01}\n",
            "\n",
            "0.186 (+/-0.012) for {'alpha': 0.0001, 'beta_1': 0.5, 'beta_2': 0.1, 'hidden_layer_sizes': (50,), 'learning_rate_init': 0.1}\n",
            "\n",
            "0.915 (+/-0.024) for {'alpha': 0.0001, 'beta_1': 0.5, 'beta_2': 0.1, 'hidden_layer_sizes': (100,), 'learning_rate_init': 0.001}\n",
            "\n",
            "0.888 (+/-0.048) for {'alpha': 0.0001, 'beta_1': 0.5, 'beta_2': 0.1, 'hidden_layer_sizes': (100,), 'learning_rate_init': 0.01}\n",
            "\n",
            "0.186 (+/-0.012) for {'alpha': 0.0001, 'beta_1': 0.5, 'beta_2': 0.1, 'hidden_layer_sizes': (100,), 'learning_rate_init': 0.1}\n",
            "\n",
            "0.903 (+/-0.026) for {'alpha': 0.0001, 'beta_1': 0.5, 'beta_2': 0.1, 'hidden_layer_sizes': (1000,), 'learning_rate_init': 0.001}\n",
            "\n",
            "0.849 (+/-0.114) for {'alpha': 0.0001, 'beta_1': 0.5, 'beta_2': 0.1, 'hidden_layer_sizes': (1000,), 'learning_rate_init': 0.01}\n",
            "\n",
            "0.254 (+/-0.271) for {'alpha': 0.0001, 'beta_1': 0.5, 'beta_2': 0.1, 'hidden_layer_sizes': (1000,), 'learning_rate_init': 0.1}\n",
            "\n",
            "0.921 (+/-0.021) for {'alpha': 0.0001, 'beta_1': 0.5, 'beta_2': 0.5, 'hidden_layer_sizes': (10,), 'learning_rate_init': 0.001}\n",
            "\n",
            "0.912 (+/-0.045) for {'alpha': 0.0001, 'beta_1': 0.5, 'beta_2': 0.5, 'hidden_layer_sizes': (10,), 'learning_rate_init': 0.01}\n",
            "\n",
            "0.498 (+/-0.098) for {'alpha': 0.0001, 'beta_1': 0.5, 'beta_2': 0.5, 'hidden_layer_sizes': (10,), 'learning_rate_init': 0.1}\n",
            "\n",
            "0.918 (+/-0.058) for {'alpha': 0.0001, 'beta_1': 0.5, 'beta_2': 0.5, 'hidden_layer_sizes': (50,), 'learning_rate_init': 0.001}\n",
            "\n",
            "0.913 (+/-0.043) for {'alpha': 0.0001, 'beta_1': 0.5, 'beta_2': 0.5, 'hidden_layer_sizes': (50,), 'learning_rate_init': 0.01}\n",
            "\n",
            "0.596 (+/-0.239) for {'alpha': 0.0001, 'beta_1': 0.5, 'beta_2': 0.5, 'hidden_layer_sizes': (50,), 'learning_rate_init': 0.1}\n",
            "\n",
            "0.929 (+/-0.048) for {'alpha': 0.0001, 'beta_1': 0.5, 'beta_2': 0.5, 'hidden_layer_sizes': (100,), 'learning_rate_init': 0.001}\n",
            "\n",
            "0.923 (+/-0.031) for {'alpha': 0.0001, 'beta_1': 0.5, 'beta_2': 0.5, 'hidden_layer_sizes': (100,), 'learning_rate_init': 0.01}\n",
            "\n",
            "0.711 (+/-0.197) for {'alpha': 0.0001, 'beta_1': 0.5, 'beta_2': 0.5, 'hidden_layer_sizes': (100,), 'learning_rate_init': 0.1}\n",
            "\n",
            "0.915 (+/-0.062) for {'alpha': 0.0001, 'beta_1': 0.5, 'beta_2': 0.5, 'hidden_layer_sizes': (1000,), 'learning_rate_init': 0.001}\n",
            "\n",
            "0.904 (+/-0.066) for {'alpha': 0.0001, 'beta_1': 0.5, 'beta_2': 0.5, 'hidden_layer_sizes': (1000,), 'learning_rate_init': 0.01}\n",
            "\n",
            "0.786 (+/-0.227) for {'alpha': 0.0001, 'beta_1': 0.5, 'beta_2': 0.5, 'hidden_layer_sizes': (1000,), 'learning_rate_init': 0.1}\n",
            "\n",
            "0.928 (+/-0.030) for {'alpha': 0.0001, 'beta_1': 0.5, 'beta_2': 0.9, 'hidden_layer_sizes': (10,), 'learning_rate_init': 0.001}\n",
            "\n",
            "0.911 (+/-0.043) for {'alpha': 0.0001, 'beta_1': 0.5, 'beta_2': 0.9, 'hidden_layer_sizes': (10,), 'learning_rate_init': 0.01}\n",
            "\n",
            "0.444 (+/-0.328) for {'alpha': 0.0001, 'beta_1': 0.5, 'beta_2': 0.9, 'hidden_layer_sizes': (10,), 'learning_rate_init': 0.1}\n",
            "\n",
            "0.930 (+/-0.056) for {'alpha': 0.0001, 'beta_1': 0.5, 'beta_2': 0.9, 'hidden_layer_sizes': (50,), 'learning_rate_init': 0.001}\n",
            "\n",
            "0.875 (+/-0.078) for {'alpha': 0.0001, 'beta_1': 0.5, 'beta_2': 0.9, 'hidden_layer_sizes': (50,), 'learning_rate_init': 0.01}\n",
            "\n",
            "0.538 (+/-0.100) for {'alpha': 0.0001, 'beta_1': 0.5, 'beta_2': 0.9, 'hidden_layer_sizes': (50,), 'learning_rate_init': 0.1}\n",
            "\n",
            "0.916 (+/-0.050) for {'alpha': 0.0001, 'beta_1': 0.5, 'beta_2': 0.9, 'hidden_layer_sizes': (100,), 'learning_rate_init': 0.001}\n",
            "\n",
            "0.916 (+/-0.062) for {'alpha': 0.0001, 'beta_1': 0.5, 'beta_2': 0.9, 'hidden_layer_sizes': (100,), 'learning_rate_init': 0.01}\n",
            "\n",
            "0.478 (+/-0.255) for {'alpha': 0.0001, 'beta_1': 0.5, 'beta_2': 0.9, 'hidden_layer_sizes': (100,), 'learning_rate_init': 0.1}\n",
            "\n",
            "0.884 (+/-0.050) for {'alpha': 0.0001, 'beta_1': 0.5, 'beta_2': 0.9, 'hidden_layer_sizes': (1000,), 'learning_rate_init': 0.001}\n",
            "\n",
            "0.899 (+/-0.080) for {'alpha': 0.0001, 'beta_1': 0.5, 'beta_2': 0.9, 'hidden_layer_sizes': (1000,), 'learning_rate_init': 0.01}\n",
            "\n",
            "0.549 (+/-0.205) for {'alpha': 0.0001, 'beta_1': 0.5, 'beta_2': 0.9, 'hidden_layer_sizes': (1000,), 'learning_rate_init': 0.1}\n",
            "\n",
            "0.776 (+/-0.426) for {'alpha': 0.0001, 'beta_1': 0.9, 'beta_2': 0.1, 'hidden_layer_sizes': (10,), 'learning_rate_init': 0.001}\n",
            "\n",
            "0.279 (+/-0.215) for {'alpha': 0.0001, 'beta_1': 0.9, 'beta_2': 0.1, 'hidden_layer_sizes': (10,), 'learning_rate_init': 0.01}\n",
            "\n",
            "0.142 (+/-0.128) for {'alpha': 0.0001, 'beta_1': 0.9, 'beta_2': 0.1, 'hidden_layer_sizes': (10,), 'learning_rate_init': 0.1}\n",
            "\n",
            "0.588 (+/-0.394) for {'alpha': 0.0001, 'beta_1': 0.9, 'beta_2': 0.1, 'hidden_layer_sizes': (50,), 'learning_rate_init': 0.001}\n",
            "\n",
            "0.252 (+/-0.200) for {'alpha': 0.0001, 'beta_1': 0.9, 'beta_2': 0.1, 'hidden_layer_sizes': (50,), 'learning_rate_init': 0.01}\n",
            "\n",
            "0.180 (+/-0.108) for {'alpha': 0.0001, 'beta_1': 0.9, 'beta_2': 0.1, 'hidden_layer_sizes': (50,), 'learning_rate_init': 0.1}\n",
            "\n",
            "0.645 (+/-0.251) for {'alpha': 0.0001, 'beta_1': 0.9, 'beta_2': 0.1, 'hidden_layer_sizes': (100,), 'learning_rate_init': 0.001}\n",
            "\n",
            "0.199 (+/-0.169) for {'alpha': 0.0001, 'beta_1': 0.9, 'beta_2': 0.1, 'hidden_layer_sizes': (100,), 'learning_rate_init': 0.01}\n",
            "\n",
            "0.254 (+/-0.164) for {'alpha': 0.0001, 'beta_1': 0.9, 'beta_2': 0.1, 'hidden_layer_sizes': (100,), 'learning_rate_init': 0.1}\n",
            "\n",
            "0.394 (+/-0.121) for {'alpha': 0.0001, 'beta_1': 0.9, 'beta_2': 0.1, 'hidden_layer_sizes': (1000,), 'learning_rate_init': 0.001}\n",
            "\n",
            "0.310 (+/-0.313) for {'alpha': 0.0001, 'beta_1': 0.9, 'beta_2': 0.1, 'hidden_layer_sizes': (1000,), 'learning_rate_init': 0.01}\n",
            "\n",
            "0.230 (+/-0.282) for {'alpha': 0.0001, 'beta_1': 0.9, 'beta_2': 0.1, 'hidden_layer_sizes': (1000,), 'learning_rate_init': 0.1}\n",
            "\n",
            "0.914 (+/-0.052) for {'alpha': 0.0001, 'beta_1': 0.9, 'beta_2': 0.5, 'hidden_layer_sizes': (10,), 'learning_rate_init': 0.001}\n",
            "\n",
            "0.691 (+/-0.303) for {'alpha': 0.0001, 'beta_1': 0.9, 'beta_2': 0.5, 'hidden_layer_sizes': (10,), 'learning_rate_init': 0.01}\n",
            "\n",
            "0.184 (+/-0.024) for {'alpha': 0.0001, 'beta_1': 0.9, 'beta_2': 0.5, 'hidden_layer_sizes': (10,), 'learning_rate_init': 0.1}\n",
            "\n",
            "0.916 (+/-0.053) for {'alpha': 0.0001, 'beta_1': 0.9, 'beta_2': 0.5, 'hidden_layer_sizes': (50,), 'learning_rate_init': 0.001}\n",
            "\n",
            "0.729 (+/-0.314) for {'alpha': 0.0001, 'beta_1': 0.9, 'beta_2': 0.5, 'hidden_layer_sizes': (50,), 'learning_rate_init': 0.01}\n",
            "\n",
            "0.203 (+/-0.044) for {'alpha': 0.0001, 'beta_1': 0.9, 'beta_2': 0.5, 'hidden_layer_sizes': (50,), 'learning_rate_init': 0.1}\n",
            "\n",
            "0.862 (+/-0.077) for {'alpha': 0.0001, 'beta_1': 0.9, 'beta_2': 0.5, 'hidden_layer_sizes': (100,), 'learning_rate_init': 0.001}\n",
            "\n",
            "0.643 (+/-0.248) for {'alpha': 0.0001, 'beta_1': 0.9, 'beta_2': 0.5, 'hidden_layer_sizes': (100,), 'learning_rate_init': 0.01}\n",
            "\n",
            "0.230 (+/-0.238) for {'alpha': 0.0001, 'beta_1': 0.9, 'beta_2': 0.5, 'hidden_layer_sizes': (100,), 'learning_rate_init': 0.1}\n",
            "\n",
            "0.824 (+/-0.143) for {'alpha': 0.0001, 'beta_1': 0.9, 'beta_2': 0.5, 'hidden_layer_sizes': (1000,), 'learning_rate_init': 0.001}\n",
            "\n",
            "0.515 (+/-0.396) for {'alpha': 0.0001, 'beta_1': 0.9, 'beta_2': 0.5, 'hidden_layer_sizes': (1000,), 'learning_rate_init': 0.01}\n",
            "\n",
            "0.245 (+/-0.152) for {'alpha': 0.0001, 'beta_1': 0.9, 'beta_2': 0.5, 'hidden_layer_sizes': (1000,), 'learning_rate_init': 0.1}\n",
            "\n",
            "0.926 (+/-0.040) for {'alpha': 0.0001, 'beta_1': 0.9, 'beta_2': 0.9, 'hidden_layer_sizes': (10,), 'learning_rate_init': 0.001}\n",
            "\n",
            "0.909 (+/-0.056) for {'alpha': 0.0001, 'beta_1': 0.9, 'beta_2': 0.9, 'hidden_layer_sizes': (10,), 'learning_rate_init': 0.01}\n",
            "\n",
            "0.616 (+/-0.351) for {'alpha': 0.0001, 'beta_1': 0.9, 'beta_2': 0.9, 'hidden_layer_sizes': (10,), 'learning_rate_init': 0.1}\n",
            "\n",
            "0.927 (+/-0.033) for {'alpha': 0.0001, 'beta_1': 0.9, 'beta_2': 0.9, 'hidden_layer_sizes': (50,), 'learning_rate_init': 0.001}\n",
            "\n",
            "0.916 (+/-0.053) for {'alpha': 0.0001, 'beta_1': 0.9, 'beta_2': 0.9, 'hidden_layer_sizes': (50,), 'learning_rate_init': 0.01}\n",
            "\n",
            "0.574 (+/-0.476) for {'alpha': 0.0001, 'beta_1': 0.9, 'beta_2': 0.9, 'hidden_layer_sizes': (50,), 'learning_rate_init': 0.1}\n",
            "\n",
            "0.922 (+/-0.047) for {'alpha': 0.0001, 'beta_1': 0.9, 'beta_2': 0.9, 'hidden_layer_sizes': (100,), 'learning_rate_init': 0.001}\n",
            "\n",
            "0.911 (+/-0.053) for {'alpha': 0.0001, 'beta_1': 0.9, 'beta_2': 0.9, 'hidden_layer_sizes': (100,), 'learning_rate_init': 0.01}\n",
            "\n",
            "0.523 (+/-0.144) for {'alpha': 0.0001, 'beta_1': 0.9, 'beta_2': 0.9, 'hidden_layer_sizes': (100,), 'learning_rate_init': 0.1}\n",
            "\n",
            "0.920 (+/-0.039) for {'alpha': 0.0001, 'beta_1': 0.9, 'beta_2': 0.9, 'hidden_layer_sizes': (1000,), 'learning_rate_init': 0.001}\n",
            "\n",
            "0.892 (+/-0.070) for {'alpha': 0.0001, 'beta_1': 0.9, 'beta_2': 0.9, 'hidden_layer_sizes': (1000,), 'learning_rate_init': 0.01}\n",
            "\n",
            "0.696 (+/-0.238) for {'alpha': 0.0001, 'beta_1': 0.9, 'beta_2': 0.9, 'hidden_layer_sizes': (1000,), 'learning_rate_init': 0.1}\n",
            "\n",
            "0.922 (+/-0.049) for {'alpha': 0.001, 'beta_1': 0.1, 'beta_2': 0.1, 'hidden_layer_sizes': (10,), 'learning_rate_init': 0.001}\n",
            "\n",
            "0.894 (+/-0.094) for {'alpha': 0.001, 'beta_1': 0.1, 'beta_2': 0.1, 'hidden_layer_sizes': (10,), 'learning_rate_init': 0.01}\n",
            "\n",
            "0.527 (+/-0.253) for {'alpha': 0.001, 'beta_1': 0.1, 'beta_2': 0.1, 'hidden_layer_sizes': (10,), 'learning_rate_init': 0.1}\n",
            "\n",
            "0.928 (+/-0.041) for {'alpha': 0.001, 'beta_1': 0.1, 'beta_2': 0.1, 'hidden_layer_sizes': (50,), 'learning_rate_init': 0.001}\n",
            "\n",
            "0.915 (+/-0.052) for {'alpha': 0.001, 'beta_1': 0.1, 'beta_2': 0.1, 'hidden_layer_sizes': (50,), 'learning_rate_init': 0.01}\n",
            "\n",
            "0.686 (+/-0.275) for {'alpha': 0.001, 'beta_1': 0.1, 'beta_2': 0.1, 'hidden_layer_sizes': (50,), 'learning_rate_init': 0.1}\n",
            "\n",
            "0.923 (+/-0.047) for {'alpha': 0.001, 'beta_1': 0.1, 'beta_2': 0.1, 'hidden_layer_sizes': (100,), 'learning_rate_init': 0.001}\n",
            "\n",
            "0.882 (+/-0.083) for {'alpha': 0.001, 'beta_1': 0.1, 'beta_2': 0.1, 'hidden_layer_sizes': (100,), 'learning_rate_init': 0.01}\n",
            "\n",
            "0.785 (+/-0.150) for {'alpha': 0.001, 'beta_1': 0.1, 'beta_2': 0.1, 'hidden_layer_sizes': (100,), 'learning_rate_init': 0.1}\n",
            "\n",
            "0.915 (+/-0.065) for {'alpha': 0.001, 'beta_1': 0.1, 'beta_2': 0.1, 'hidden_layer_sizes': (1000,), 'learning_rate_init': 0.001}\n",
            "\n",
            "0.893 (+/-0.073) for {'alpha': 0.001, 'beta_1': 0.1, 'beta_2': 0.1, 'hidden_layer_sizes': (1000,), 'learning_rate_init': 0.01}\n",
            "\n",
            "0.828 (+/-0.102) for {'alpha': 0.001, 'beta_1': 0.1, 'beta_2': 0.1, 'hidden_layer_sizes': (1000,), 'learning_rate_init': 0.1}\n",
            "\n",
            "0.928 (+/-0.042) for {'alpha': 0.001, 'beta_1': 0.1, 'beta_2': 0.5, 'hidden_layer_sizes': (10,), 'learning_rate_init': 0.001}\n",
            "\n",
            "0.916 (+/-0.045) for {'alpha': 0.001, 'beta_1': 0.1, 'beta_2': 0.5, 'hidden_layer_sizes': (10,), 'learning_rate_init': 0.01}\n",
            "\n",
            "0.412 (+/-0.208) for {'alpha': 0.001, 'beta_1': 0.1, 'beta_2': 0.5, 'hidden_layer_sizes': (10,), 'learning_rate_init': 0.1}\n",
            "\n",
            "0.921 (+/-0.064) for {'alpha': 0.001, 'beta_1': 0.1, 'beta_2': 0.5, 'hidden_layer_sizes': (50,), 'learning_rate_init': 0.001}\n",
            "\n",
            "0.922 (+/-0.057) for {'alpha': 0.001, 'beta_1': 0.1, 'beta_2': 0.5, 'hidden_layer_sizes': (50,), 'learning_rate_init': 0.01}\n",
            "\n",
            "0.592 (+/-0.214) for {'alpha': 0.001, 'beta_1': 0.1, 'beta_2': 0.5, 'hidden_layer_sizes': (50,), 'learning_rate_init': 0.1}\n",
            "\n",
            "0.914 (+/-0.050) for {'alpha': 0.001, 'beta_1': 0.1, 'beta_2': 0.5, 'hidden_layer_sizes': (100,), 'learning_rate_init': 0.001}\n",
            "\n",
            "0.892 (+/-0.046) for {'alpha': 0.001, 'beta_1': 0.1, 'beta_2': 0.5, 'hidden_layer_sizes': (100,), 'learning_rate_init': 0.01}\n",
            "\n",
            "0.475 (+/-0.113) for {'alpha': 0.001, 'beta_1': 0.1, 'beta_2': 0.5, 'hidden_layer_sizes': (100,), 'learning_rate_init': 0.1}\n",
            "\n",
            "0.911 (+/-0.042) for {'alpha': 0.001, 'beta_1': 0.1, 'beta_2': 0.5, 'hidden_layer_sizes': (1000,), 'learning_rate_init': 0.001}\n",
            "\n",
            "0.866 (+/-0.098) for {'alpha': 0.001, 'beta_1': 0.1, 'beta_2': 0.5, 'hidden_layer_sizes': (1000,), 'learning_rate_init': 0.01}\n",
            "\n",
            "0.803 (+/-0.273) for {'alpha': 0.001, 'beta_1': 0.1, 'beta_2': 0.5, 'hidden_layer_sizes': (1000,), 'learning_rate_init': 0.1}\n",
            "\n",
            "0.919 (+/-0.045) for {'alpha': 0.001, 'beta_1': 0.1, 'beta_2': 0.9, 'hidden_layer_sizes': (10,), 'learning_rate_init': 0.001}\n",
            "\n",
            "0.892 (+/-0.095) for {'alpha': 0.001, 'beta_1': 0.1, 'beta_2': 0.9, 'hidden_layer_sizes': (10,), 'learning_rate_init': 0.01}\n",
            "\n",
            "0.315 (+/-0.077) for {'alpha': 0.001, 'beta_1': 0.1, 'beta_2': 0.9, 'hidden_layer_sizes': (10,), 'learning_rate_init': 0.1}\n",
            "\n",
            "0.919 (+/-0.045) for {'alpha': 0.001, 'beta_1': 0.1, 'beta_2': 0.9, 'hidden_layer_sizes': (50,), 'learning_rate_init': 0.001}\n",
            "\n",
            "0.885 (+/-0.057) for {'alpha': 0.001, 'beta_1': 0.1, 'beta_2': 0.9, 'hidden_layer_sizes': (50,), 'learning_rate_init': 0.01}\n",
            "\n",
            "0.339 (+/-0.109) for {'alpha': 0.001, 'beta_1': 0.1, 'beta_2': 0.9, 'hidden_layer_sizes': (50,), 'learning_rate_init': 0.1}\n",
            "\n",
            "0.927 (+/-0.042) for {'alpha': 0.001, 'beta_1': 0.1, 'beta_2': 0.9, 'hidden_layer_sizes': (100,), 'learning_rate_init': 0.001}\n",
            "\n",
            "0.858 (+/-0.072) for {'alpha': 0.001, 'beta_1': 0.1, 'beta_2': 0.9, 'hidden_layer_sizes': (100,), 'learning_rate_init': 0.01}\n",
            "\n",
            "0.362 (+/-0.196) for {'alpha': 0.001, 'beta_1': 0.1, 'beta_2': 0.9, 'hidden_layer_sizes': (100,), 'learning_rate_init': 0.1}\n",
            "\n",
            "0.905 (+/-0.074) for {'alpha': 0.001, 'beta_1': 0.1, 'beta_2': 0.9, 'hidden_layer_sizes': (1000,), 'learning_rate_init': 0.001}\n",
            "\n",
            "0.853 (+/-0.061) for {'alpha': 0.001, 'beta_1': 0.1, 'beta_2': 0.9, 'hidden_layer_sizes': (1000,), 'learning_rate_init': 0.01}\n",
            "\n",
            "0.416 (+/-0.190) for {'alpha': 0.001, 'beta_1': 0.1, 'beta_2': 0.9, 'hidden_layer_sizes': (1000,), 'learning_rate_init': 0.1}\n",
            "\n",
            "0.918 (+/-0.028) for {'alpha': 0.001, 'beta_1': 0.5, 'beta_2': 0.1, 'hidden_layer_sizes': (10,), 'learning_rate_init': 0.001}\n",
            "\n",
            "0.861 (+/-0.086) for {'alpha': 0.001, 'beta_1': 0.5, 'beta_2': 0.1, 'hidden_layer_sizes': (10,), 'learning_rate_init': 0.01}\n",
            "\n",
            "0.183 (+/-0.021) for {'alpha': 0.001, 'beta_1': 0.5, 'beta_2': 0.1, 'hidden_layer_sizes': (10,), 'learning_rate_init': 0.1}\n",
            "\n",
            "0.921 (+/-0.038) for {'alpha': 0.001, 'beta_1': 0.5, 'beta_2': 0.1, 'hidden_layer_sizes': (50,), 'learning_rate_init': 0.001}\n",
            "\n",
            "0.874 (+/-0.049) for {'alpha': 0.001, 'beta_1': 0.5, 'beta_2': 0.1, 'hidden_layer_sizes': (50,), 'learning_rate_init': 0.01}\n",
            "\n",
            "0.183 (+/-0.013) for {'alpha': 0.001, 'beta_1': 0.5, 'beta_2': 0.1, 'hidden_layer_sizes': (50,), 'learning_rate_init': 0.1}\n",
            "\n",
            "0.919 (+/-0.041) for {'alpha': 0.001, 'beta_1': 0.5, 'beta_2': 0.1, 'hidden_layer_sizes': (100,), 'learning_rate_init': 0.001}\n",
            "\n",
            "0.887 (+/-0.046) for {'alpha': 0.001, 'beta_1': 0.5, 'beta_2': 0.1, 'hidden_layer_sizes': (100,), 'learning_rate_init': 0.01}\n",
            "\n",
            "0.185 (+/-0.018) for {'alpha': 0.001, 'beta_1': 0.5, 'beta_2': 0.1, 'hidden_layer_sizes': (100,), 'learning_rate_init': 0.1}\n",
            "\n",
            "0.866 (+/-0.097) for {'alpha': 0.001, 'beta_1': 0.5, 'beta_2': 0.1, 'hidden_layer_sizes': (1000,), 'learning_rate_init': 0.001}\n",
            "\n",
            "0.881 (+/-0.087) for {'alpha': 0.001, 'beta_1': 0.5, 'beta_2': 0.1, 'hidden_layer_sizes': (1000,), 'learning_rate_init': 0.01}\n",
            "\n",
            "0.190 (+/-0.004) for {'alpha': 0.001, 'beta_1': 0.5, 'beta_2': 0.1, 'hidden_layer_sizes': (1000,), 'learning_rate_init': 0.1}\n",
            "\n",
            "0.918 (+/-0.048) for {'alpha': 0.001, 'beta_1': 0.5, 'beta_2': 0.5, 'hidden_layer_sizes': (10,), 'learning_rate_init': 0.001}\n",
            "\n",
            "0.917 (+/-0.051) for {'alpha': 0.001, 'beta_1': 0.5, 'beta_2': 0.5, 'hidden_layer_sizes': (10,), 'learning_rate_init': 0.01}\n",
            "\n",
            "0.459 (+/-0.180) for {'alpha': 0.001, 'beta_1': 0.5, 'beta_2': 0.5, 'hidden_layer_sizes': (10,), 'learning_rate_init': 0.1}\n",
            "\n",
            "0.917 (+/-0.078) for {'alpha': 0.001, 'beta_1': 0.5, 'beta_2': 0.5, 'hidden_layer_sizes': (50,), 'learning_rate_init': 0.001}\n",
            "\n",
            "0.909 (+/-0.057) for {'alpha': 0.001, 'beta_1': 0.5, 'beta_2': 0.5, 'hidden_layer_sizes': (50,), 'learning_rate_init': 0.01}\n",
            "\n",
            "0.601 (+/-0.245) for {'alpha': 0.001, 'beta_1': 0.5, 'beta_2': 0.5, 'hidden_layer_sizes': (50,), 'learning_rate_init': 0.1}\n",
            "\n",
            "0.923 (+/-0.060) for {'alpha': 0.001, 'beta_1': 0.5, 'beta_2': 0.5, 'hidden_layer_sizes': (100,), 'learning_rate_init': 0.001}\n",
            "\n",
            "0.906 (+/-0.055) for {'alpha': 0.001, 'beta_1': 0.5, 'beta_2': 0.5, 'hidden_layer_sizes': (100,), 'learning_rate_init': 0.01}\n",
            "\n",
            "0.779 (+/-0.088) for {'alpha': 0.001, 'beta_1': 0.5, 'beta_2': 0.5, 'hidden_layer_sizes': (100,), 'learning_rate_init': 0.1}\n",
            "\n",
            "0.908 (+/-0.068) for {'alpha': 0.001, 'beta_1': 0.5, 'beta_2': 0.5, 'hidden_layer_sizes': (1000,), 'learning_rate_init': 0.001}\n",
            "\n",
            "0.912 (+/-0.053) for {'alpha': 0.001, 'beta_1': 0.5, 'beta_2': 0.5, 'hidden_layer_sizes': (1000,), 'learning_rate_init': 0.01}\n",
            "\n",
            "0.881 (+/-0.075) for {'alpha': 0.001, 'beta_1': 0.5, 'beta_2': 0.5, 'hidden_layer_sizes': (1000,), 'learning_rate_init': 0.1}\n",
            "\n",
            "0.924 (+/-0.044) for {'alpha': 0.001, 'beta_1': 0.5, 'beta_2': 0.9, 'hidden_layer_sizes': (10,), 'learning_rate_init': 0.001}\n",
            "\n",
            "0.904 (+/-0.057) for {'alpha': 0.001, 'beta_1': 0.5, 'beta_2': 0.9, 'hidden_layer_sizes': (10,), 'learning_rate_init': 0.01}\n",
            "\n",
            "0.495 (+/-0.124) for {'alpha': 0.001, 'beta_1': 0.5, 'beta_2': 0.9, 'hidden_layer_sizes': (10,), 'learning_rate_init': 0.1}\n",
            "\n",
            "0.926 (+/-0.044) for {'alpha': 0.001, 'beta_1': 0.5, 'beta_2': 0.9, 'hidden_layer_sizes': (50,), 'learning_rate_init': 0.001}\n",
            "\n",
            "0.922 (+/-0.043) for {'alpha': 0.001, 'beta_1': 0.5, 'beta_2': 0.9, 'hidden_layer_sizes': (50,), 'learning_rate_init': 0.01}\n",
            "\n",
            "0.370 (+/-0.104) for {'alpha': 0.001, 'beta_1': 0.5, 'beta_2': 0.9, 'hidden_layer_sizes': (50,), 'learning_rate_init': 0.1}\n",
            "\n",
            "0.921 (+/-0.034) for {'alpha': 0.001, 'beta_1': 0.5, 'beta_2': 0.9, 'hidden_layer_sizes': (100,), 'learning_rate_init': 0.001}\n",
            "\n",
            "0.910 (+/-0.066) for {'alpha': 0.001, 'beta_1': 0.5, 'beta_2': 0.9, 'hidden_layer_sizes': (100,), 'learning_rate_init': 0.01}\n",
            "\n",
            "0.384 (+/-0.081) for {'alpha': 0.001, 'beta_1': 0.5, 'beta_2': 0.9, 'hidden_layer_sizes': (100,), 'learning_rate_init': 0.1}\n",
            "\n",
            "0.910 (+/-0.048) for {'alpha': 0.001, 'beta_1': 0.5, 'beta_2': 0.9, 'hidden_layer_sizes': (1000,), 'learning_rate_init': 0.001}\n",
            "\n",
            "0.878 (+/-0.129) for {'alpha': 0.001, 'beta_1': 0.5, 'beta_2': 0.9, 'hidden_layer_sizes': (1000,), 'learning_rate_init': 0.01}\n",
            "\n",
            "0.491 (+/-0.285) for {'alpha': 0.001, 'beta_1': 0.5, 'beta_2': 0.9, 'hidden_layer_sizes': (1000,), 'learning_rate_init': 0.1}\n",
            "\n",
            "0.804 (+/-0.230) for {'alpha': 0.001, 'beta_1': 0.9, 'beta_2': 0.1, 'hidden_layer_sizes': (10,), 'learning_rate_init': 0.001}\n",
            "\n",
            "0.186 (+/-0.020) for {'alpha': 0.001, 'beta_1': 0.9, 'beta_2': 0.1, 'hidden_layer_sizes': (10,), 'learning_rate_init': 0.01}\n",
            "\n",
            "0.186 (+/-0.020) for {'alpha': 0.001, 'beta_1': 0.9, 'beta_2': 0.1, 'hidden_layer_sizes': (10,), 'learning_rate_init': 0.1}\n",
            "\n",
            "0.890 (+/-0.016) for {'alpha': 0.001, 'beta_1': 0.9, 'beta_2': 0.1, 'hidden_layer_sizes': (50,), 'learning_rate_init': 0.001}\n",
            "\n",
            "0.304 (+/-0.186) for {'alpha': 0.001, 'beta_1': 0.9, 'beta_2': 0.1, 'hidden_layer_sizes': (50,), 'learning_rate_init': 0.01}\n",
            "\n",
            "0.203 (+/-0.147) for {'alpha': 0.001, 'beta_1': 0.9, 'beta_2': 0.1, 'hidden_layer_sizes': (50,), 'learning_rate_init': 0.1}\n",
            "\n",
            "0.652 (+/-0.270) for {'alpha': 0.001, 'beta_1': 0.9, 'beta_2': 0.1, 'hidden_layer_sizes': (100,), 'learning_rate_init': 0.001}\n",
            "\n",
            "0.268 (+/-0.144) for {'alpha': 0.001, 'beta_1': 0.9, 'beta_2': 0.1, 'hidden_layer_sizes': (100,), 'learning_rate_init': 0.01}\n",
            "\n",
            "0.179 (+/-0.023) for {'alpha': 0.001, 'beta_1': 0.9, 'beta_2': 0.1, 'hidden_layer_sizes': (100,), 'learning_rate_init': 0.1}\n",
            "\n",
            "0.547 (+/-0.173) for {'alpha': 0.001, 'beta_1': 0.9, 'beta_2': 0.1, 'hidden_layer_sizes': (1000,), 'learning_rate_init': 0.001}\n",
            "\n",
            "0.321 (+/-0.214) for {'alpha': 0.001, 'beta_1': 0.9, 'beta_2': 0.1, 'hidden_layer_sizes': (1000,), 'learning_rate_init': 0.01}\n",
            "\n",
            "0.236 (+/-0.187) for {'alpha': 0.001, 'beta_1': 0.9, 'beta_2': 0.1, 'hidden_layer_sizes': (1000,), 'learning_rate_init': 0.1}\n",
            "\n",
            "0.925 (+/-0.038) for {'alpha': 0.001, 'beta_1': 0.9, 'beta_2': 0.5, 'hidden_layer_sizes': (10,), 'learning_rate_init': 0.001}\n",
            "\n",
            "0.775 (+/-0.317) for {'alpha': 0.001, 'beta_1': 0.9, 'beta_2': 0.5, 'hidden_layer_sizes': (10,), 'learning_rate_init': 0.01}\n",
            "\n",
            "0.188 (+/-0.020) for {'alpha': 0.001, 'beta_1': 0.9, 'beta_2': 0.5, 'hidden_layer_sizes': (10,), 'learning_rate_init': 0.1}\n",
            "\n",
            "0.902 (+/-0.072) for {'alpha': 0.001, 'beta_1': 0.9, 'beta_2': 0.5, 'hidden_layer_sizes': (50,), 'learning_rate_init': 0.001}\n",
            "\n",
            "0.859 (+/-0.134) for {'alpha': 0.001, 'beta_1': 0.9, 'beta_2': 0.5, 'hidden_layer_sizes': (50,), 'learning_rate_init': 0.01}\n",
            "\n",
            "0.189 (+/-0.004) for {'alpha': 0.001, 'beta_1': 0.9, 'beta_2': 0.5, 'hidden_layer_sizes': (50,), 'learning_rate_init': 0.1}\n",
            "\n",
            "0.910 (+/-0.069) for {'alpha': 0.001, 'beta_1': 0.9, 'beta_2': 0.5, 'hidden_layer_sizes': (100,), 'learning_rate_init': 0.001}\n",
            "\n",
            "0.844 (+/-0.059) for {'alpha': 0.001, 'beta_1': 0.9, 'beta_2': 0.5, 'hidden_layer_sizes': (100,), 'learning_rate_init': 0.01}\n",
            "\n",
            "0.162 (+/-0.094) for {'alpha': 0.001, 'beta_1': 0.9, 'beta_2': 0.5, 'hidden_layer_sizes': (100,), 'learning_rate_init': 0.1}\n",
            "\n",
            "0.855 (+/-0.194) for {'alpha': 0.001, 'beta_1': 0.9, 'beta_2': 0.5, 'hidden_layer_sizes': (1000,), 'learning_rate_init': 0.001}\n",
            "\n",
            "0.698 (+/-0.171) for {'alpha': 0.001, 'beta_1': 0.9, 'beta_2': 0.5, 'hidden_layer_sizes': (1000,), 'learning_rate_init': 0.01}\n",
            "\n",
            "0.196 (+/-0.195) for {'alpha': 0.001, 'beta_1': 0.9, 'beta_2': 0.5, 'hidden_layer_sizes': (1000,), 'learning_rate_init': 0.1}\n",
            "\n",
            "0.925 (+/-0.052) for {'alpha': 0.001, 'beta_1': 0.9, 'beta_2': 0.9, 'hidden_layer_sizes': (10,), 'learning_rate_init': 0.001}\n",
            "\n",
            "0.922 (+/-0.057) for {'alpha': 0.001, 'beta_1': 0.9, 'beta_2': 0.9, 'hidden_layer_sizes': (10,), 'learning_rate_init': 0.01}\n",
            "\n",
            "0.723 (+/-0.310) for {'alpha': 0.001, 'beta_1': 0.9, 'beta_2': 0.9, 'hidden_layer_sizes': (10,), 'learning_rate_init': 0.1}\n",
            "\n",
            "0.929 (+/-0.039) for {'alpha': 0.001, 'beta_1': 0.9, 'beta_2': 0.9, 'hidden_layer_sizes': (50,), 'learning_rate_init': 0.001}\n",
            "\n",
            "0.924 (+/-0.053) for {'alpha': 0.001, 'beta_1': 0.9, 'beta_2': 0.9, 'hidden_layer_sizes': (50,), 'learning_rate_init': 0.01}\n",
            "\n",
            "0.602 (+/-0.312) for {'alpha': 0.001, 'beta_1': 0.9, 'beta_2': 0.9, 'hidden_layer_sizes': (50,), 'learning_rate_init': 0.1}\n",
            "\n",
            "0.932 (+/-0.059) for {'alpha': 0.001, 'beta_1': 0.9, 'beta_2': 0.9, 'hidden_layer_sizes': (100,), 'learning_rate_init': 0.001}\n",
            "\n",
            "0.918 (+/-0.056) for {'alpha': 0.001, 'beta_1': 0.9, 'beta_2': 0.9, 'hidden_layer_sizes': (100,), 'learning_rate_init': 0.01}\n",
            "\n",
            "0.604 (+/-0.161) for {'alpha': 0.001, 'beta_1': 0.9, 'beta_2': 0.9, 'hidden_layer_sizes': (100,), 'learning_rate_init': 0.1}\n",
            "\n",
            "0.919 (+/-0.068) for {'alpha': 0.001, 'beta_1': 0.9, 'beta_2': 0.9, 'hidden_layer_sizes': (1000,), 'learning_rate_init': 0.001}\n",
            "\n",
            "0.902 (+/-0.089) for {'alpha': 0.001, 'beta_1': 0.9, 'beta_2': 0.9, 'hidden_layer_sizes': (1000,), 'learning_rate_init': 0.01}\n",
            "\n",
            "0.781 (+/-0.286) for {'alpha': 0.001, 'beta_1': 0.9, 'beta_2': 0.9, 'hidden_layer_sizes': (1000,), 'learning_rate_init': 0.1}\n",
            "\n",
            "0.921 (+/-0.045) for {'alpha': 0.01, 'beta_1': 0.1, 'beta_2': 0.1, 'hidden_layer_sizes': (10,), 'learning_rate_init': 0.001}\n",
            "\n",
            "0.910 (+/-0.060) for {'alpha': 0.01, 'beta_1': 0.1, 'beta_2': 0.1, 'hidden_layer_sizes': (10,), 'learning_rate_init': 0.01}\n",
            "\n",
            "0.462 (+/-0.367) for {'alpha': 0.01, 'beta_1': 0.1, 'beta_2': 0.1, 'hidden_layer_sizes': (10,), 'learning_rate_init': 0.1}\n",
            "\n",
            "0.920 (+/-0.050) for {'alpha': 0.01, 'beta_1': 0.1, 'beta_2': 0.1, 'hidden_layer_sizes': (50,), 'learning_rate_init': 0.001}\n",
            "\n",
            "0.876 (+/-0.102) for {'alpha': 0.01, 'beta_1': 0.1, 'beta_2': 0.1, 'hidden_layer_sizes': (50,), 'learning_rate_init': 0.01}\n",
            "\n",
            "0.714 (+/-0.218) for {'alpha': 0.01, 'beta_1': 0.1, 'beta_2': 0.1, 'hidden_layer_sizes': (50,), 'learning_rate_init': 0.1}\n",
            "\n",
            "0.920 (+/-0.059) for {'alpha': 0.01, 'beta_1': 0.1, 'beta_2': 0.1, 'hidden_layer_sizes': (100,), 'learning_rate_init': 0.001}\n",
            "\n",
            "0.863 (+/-0.030) for {'alpha': 0.01, 'beta_1': 0.1, 'beta_2': 0.1, 'hidden_layer_sizes': (100,), 'learning_rate_init': 0.01}\n",
            "\n",
            "0.768 (+/-0.107) for {'alpha': 0.01, 'beta_1': 0.1, 'beta_2': 0.1, 'hidden_layer_sizes': (100,), 'learning_rate_init': 0.1}\n",
            "\n",
            "0.897 (+/-0.076) for {'alpha': 0.01, 'beta_1': 0.1, 'beta_2': 0.1, 'hidden_layer_sizes': (1000,), 'learning_rate_init': 0.001}\n",
            "\n",
            "0.893 (+/-0.082) for {'alpha': 0.01, 'beta_1': 0.1, 'beta_2': 0.1, 'hidden_layer_sizes': (1000,), 'learning_rate_init': 0.01}\n",
            "\n",
            "0.826 (+/-0.076) for {'alpha': 0.01, 'beta_1': 0.1, 'beta_2': 0.1, 'hidden_layer_sizes': (1000,), 'learning_rate_init': 0.1}\n",
            "\n",
            "0.921 (+/-0.048) for {'alpha': 0.01, 'beta_1': 0.1, 'beta_2': 0.5, 'hidden_layer_sizes': (10,), 'learning_rate_init': 0.001}\n",
            "\n",
            "0.919 (+/-0.052) for {'alpha': 0.01, 'beta_1': 0.1, 'beta_2': 0.5, 'hidden_layer_sizes': (10,), 'learning_rate_init': 0.01}\n",
            "\n",
            "0.465 (+/-0.185) for {'alpha': 0.01, 'beta_1': 0.1, 'beta_2': 0.5, 'hidden_layer_sizes': (10,), 'learning_rate_init': 0.1}\n",
            "\n",
            "0.913 (+/-0.046) for {'alpha': 0.01, 'beta_1': 0.1, 'beta_2': 0.5, 'hidden_layer_sizes': (50,), 'learning_rate_init': 0.001}\n",
            "\n",
            "0.906 (+/-0.066) for {'alpha': 0.01, 'beta_1': 0.1, 'beta_2': 0.5, 'hidden_layer_sizes': (50,), 'learning_rate_init': 0.01}\n",
            "\n",
            "0.544 (+/-0.180) for {'alpha': 0.01, 'beta_1': 0.1, 'beta_2': 0.5, 'hidden_layer_sizes': (50,), 'learning_rate_init': 0.1}\n",
            "\n",
            "0.920 (+/-0.040) for {'alpha': 0.01, 'beta_1': 0.1, 'beta_2': 0.5, 'hidden_layer_sizes': (100,), 'learning_rate_init': 0.001}\n",
            "\n",
            "0.895 (+/-0.032) for {'alpha': 0.01, 'beta_1': 0.1, 'beta_2': 0.5, 'hidden_layer_sizes': (100,), 'learning_rate_init': 0.01}\n",
            "\n",
            "0.523 (+/-0.286) for {'alpha': 0.01, 'beta_1': 0.1, 'beta_2': 0.5, 'hidden_layer_sizes': (100,), 'learning_rate_init': 0.1}\n",
            "\n",
            "0.887 (+/-0.064) for {'alpha': 0.01, 'beta_1': 0.1, 'beta_2': 0.5, 'hidden_layer_sizes': (1000,), 'learning_rate_init': 0.001}\n",
            "\n",
            "0.821 (+/-0.110) for {'alpha': 0.01, 'beta_1': 0.1, 'beta_2': 0.5, 'hidden_layer_sizes': (1000,), 'learning_rate_init': 0.01}\n",
            "\n",
            "0.847 (+/-0.114) for {'alpha': 0.01, 'beta_1': 0.1, 'beta_2': 0.5, 'hidden_layer_sizes': (1000,), 'learning_rate_init': 0.1}\n",
            "\n",
            "0.918 (+/-0.047) for {'alpha': 0.01, 'beta_1': 0.1, 'beta_2': 0.9, 'hidden_layer_sizes': (10,), 'learning_rate_init': 0.001}\n",
            "\n",
            "0.891 (+/-0.066) for {'alpha': 0.01, 'beta_1': 0.1, 'beta_2': 0.9, 'hidden_layer_sizes': (10,), 'learning_rate_init': 0.01}\n",
            "\n",
            "0.317 (+/-0.071) for {'alpha': 0.01, 'beta_1': 0.1, 'beta_2': 0.9, 'hidden_layer_sizes': (10,), 'learning_rate_init': 0.1}\n",
            "\n",
            "0.909 (+/-0.079) for {'alpha': 0.01, 'beta_1': 0.1, 'beta_2': 0.9, 'hidden_layer_sizes': (50,), 'learning_rate_init': 0.001}\n",
            "\n",
            "0.851 (+/-0.198) for {'alpha': 0.01, 'beta_1': 0.1, 'beta_2': 0.9, 'hidden_layer_sizes': (50,), 'learning_rate_init': 0.01}\n",
            "\n",
            "0.370 (+/-0.094) for {'alpha': 0.01, 'beta_1': 0.1, 'beta_2': 0.9, 'hidden_layer_sizes': (50,), 'learning_rate_init': 0.1}\n",
            "\n",
            "0.912 (+/-0.068) for {'alpha': 0.01, 'beta_1': 0.1, 'beta_2': 0.9, 'hidden_layer_sizes': (100,), 'learning_rate_init': 0.001}\n",
            "\n",
            "0.883 (+/-0.065) for {'alpha': 0.01, 'beta_1': 0.1, 'beta_2': 0.9, 'hidden_layer_sizes': (100,), 'learning_rate_init': 0.01}\n",
            "\n",
            "0.430 (+/-0.141) for {'alpha': 0.01, 'beta_1': 0.1, 'beta_2': 0.9, 'hidden_layer_sizes': (100,), 'learning_rate_init': 0.1}\n",
            "\n",
            "0.880 (+/-0.100) for {'alpha': 0.01, 'beta_1': 0.1, 'beta_2': 0.9, 'hidden_layer_sizes': (1000,), 'learning_rate_init': 0.001}\n",
            "\n",
            "0.791 (+/-0.071) for {'alpha': 0.01, 'beta_1': 0.1, 'beta_2': 0.9, 'hidden_layer_sizes': (1000,), 'learning_rate_init': 0.01}\n",
            "\n",
            "0.504 (+/-0.298) for {'alpha': 0.01, 'beta_1': 0.1, 'beta_2': 0.9, 'hidden_layer_sizes': (1000,), 'learning_rate_init': 0.1}\n",
            "\n",
            "0.906 (+/-0.048) for {'alpha': 0.01, 'beta_1': 0.5, 'beta_2': 0.1, 'hidden_layer_sizes': (10,), 'learning_rate_init': 0.001}\n",
            "\n",
            "0.781 (+/-0.232) for {'alpha': 0.01, 'beta_1': 0.5, 'beta_2': 0.1, 'hidden_layer_sizes': (10,), 'learning_rate_init': 0.01}\n",
            "\n",
            "0.181 (+/-0.024) for {'alpha': 0.01, 'beta_1': 0.5, 'beta_2': 0.1, 'hidden_layer_sizes': (10,), 'learning_rate_init': 0.1}\n",
            "\n",
            "0.914 (+/-0.069) for {'alpha': 0.01, 'beta_1': 0.5, 'beta_2': 0.1, 'hidden_layer_sizes': (50,), 'learning_rate_init': 0.001}\n",
            "\n",
            "0.870 (+/-0.073) for {'alpha': 0.01, 'beta_1': 0.5, 'beta_2': 0.1, 'hidden_layer_sizes': (50,), 'learning_rate_init': 0.01}\n",
            "\n",
            "0.186 (+/-0.012) for {'alpha': 0.01, 'beta_1': 0.5, 'beta_2': 0.1, 'hidden_layer_sizes': (50,), 'learning_rate_init': 0.1}\n",
            "\n",
            "0.917 (+/-0.044) for {'alpha': 0.01, 'beta_1': 0.5, 'beta_2': 0.1, 'hidden_layer_sizes': (100,), 'learning_rate_init': 0.001}\n",
            "\n",
            "0.895 (+/-0.047) for {'alpha': 0.01, 'beta_1': 0.5, 'beta_2': 0.1, 'hidden_layer_sizes': (100,), 'learning_rate_init': 0.01}\n",
            "\n",
            "0.185 (+/-0.016) for {'alpha': 0.01, 'beta_1': 0.5, 'beta_2': 0.1, 'hidden_layer_sizes': (100,), 'learning_rate_init': 0.1}\n",
            "\n",
            "0.909 (+/-0.088) for {'alpha': 0.01, 'beta_1': 0.5, 'beta_2': 0.1, 'hidden_layer_sizes': (1000,), 'learning_rate_init': 0.001}\n",
            "\n",
            "0.807 (+/-0.156) for {'alpha': 0.01, 'beta_1': 0.5, 'beta_2': 0.1, 'hidden_layer_sizes': (1000,), 'learning_rate_init': 0.01}\n",
            "\n",
            "0.182 (+/-0.020) for {'alpha': 0.01, 'beta_1': 0.5, 'beta_2': 0.1, 'hidden_layer_sizes': (1000,), 'learning_rate_init': 0.1}\n",
            "\n",
            "0.926 (+/-0.054) for {'alpha': 0.01, 'beta_1': 0.5, 'beta_2': 0.5, 'hidden_layer_sizes': (10,), 'learning_rate_init': 0.001}\n",
            "\n",
            "0.921 (+/-0.081) for {'alpha': 0.01, 'beta_1': 0.5, 'beta_2': 0.5, 'hidden_layer_sizes': (10,), 'learning_rate_init': 0.01}\n",
            "\n",
            "0.422 (+/-0.111) for {'alpha': 0.01, 'beta_1': 0.5, 'beta_2': 0.5, 'hidden_layer_sizes': (10,), 'learning_rate_init': 0.1}\n",
            "\n",
            "0.929 (+/-0.054) for {'alpha': 0.01, 'beta_1': 0.5, 'beta_2': 0.5, 'hidden_layer_sizes': (50,), 'learning_rate_init': 0.001}\n",
            "\n",
            "0.907 (+/-0.057) for {'alpha': 0.01, 'beta_1': 0.5, 'beta_2': 0.5, 'hidden_layer_sizes': (50,), 'learning_rate_init': 0.01}\n",
            "\n",
            "0.616 (+/-0.200) for {'alpha': 0.01, 'beta_1': 0.5, 'beta_2': 0.5, 'hidden_layer_sizes': (50,), 'learning_rate_init': 0.1}\n",
            "\n",
            "0.914 (+/-0.066) for {'alpha': 0.01, 'beta_1': 0.5, 'beta_2': 0.5, 'hidden_layer_sizes': (100,), 'learning_rate_init': 0.001}\n",
            "\n",
            "0.910 (+/-0.070) for {'alpha': 0.01, 'beta_1': 0.5, 'beta_2': 0.5, 'hidden_layer_sizes': (100,), 'learning_rate_init': 0.01}\n",
            "\n",
            "0.719 (+/-0.270) for {'alpha': 0.01, 'beta_1': 0.5, 'beta_2': 0.5, 'hidden_layer_sizes': (100,), 'learning_rate_init': 0.1}\n",
            "\n",
            "0.920 (+/-0.062) for {'alpha': 0.01, 'beta_1': 0.5, 'beta_2': 0.5, 'hidden_layer_sizes': (1000,), 'learning_rate_init': 0.001}\n",
            "\n",
            "0.882 (+/-0.113) for {'alpha': 0.01, 'beta_1': 0.5, 'beta_2': 0.5, 'hidden_layer_sizes': (1000,), 'learning_rate_init': 0.01}\n",
            "\n",
            "0.885 (+/-0.054) for {'alpha': 0.01, 'beta_1': 0.5, 'beta_2': 0.5, 'hidden_layer_sizes': (1000,), 'learning_rate_init': 0.1}\n",
            "\n",
            "0.925 (+/-0.046) for {'alpha': 0.01, 'beta_1': 0.5, 'beta_2': 0.9, 'hidden_layer_sizes': (10,), 'learning_rate_init': 0.001}\n",
            "\n",
            "0.912 (+/-0.075) for {'alpha': 0.01, 'beta_1': 0.5, 'beta_2': 0.9, 'hidden_layer_sizes': (10,), 'learning_rate_init': 0.01}\n",
            "\n",
            "0.454 (+/-0.177) for {'alpha': 0.01, 'beta_1': 0.5, 'beta_2': 0.9, 'hidden_layer_sizes': (10,), 'learning_rate_init': 0.1}\n",
            "\n",
            "0.931 (+/-0.051) for {'alpha': 0.01, 'beta_1': 0.5, 'beta_2': 0.9, 'hidden_layer_sizes': (50,), 'learning_rate_init': 0.001}\n",
            "\n",
            "0.897 (+/-0.150) for {'alpha': 0.01, 'beta_1': 0.5, 'beta_2': 0.9, 'hidden_layer_sizes': (50,), 'learning_rate_init': 0.01}\n",
            "\n",
            "0.366 (+/-0.139) for {'alpha': 0.01, 'beta_1': 0.5, 'beta_2': 0.9, 'hidden_layer_sizes': (50,), 'learning_rate_init': 0.1}\n",
            "\n",
            "0.927 (+/-0.049) for {'alpha': 0.01, 'beta_1': 0.5, 'beta_2': 0.9, 'hidden_layer_sizes': (100,), 'learning_rate_init': 0.001}\n",
            "\n",
            "0.892 (+/-0.112) for {'alpha': 0.01, 'beta_1': 0.5, 'beta_2': 0.9, 'hidden_layer_sizes': (100,), 'learning_rate_init': 0.01}\n",
            "\n",
            "0.251 (+/-0.149) for {'alpha': 0.01, 'beta_1': 0.5, 'beta_2': 0.9, 'hidden_layer_sizes': (100,), 'learning_rate_init': 0.1}\n",
            "\n",
            "0.895 (+/-0.099) for {'alpha': 0.01, 'beta_1': 0.5, 'beta_2': 0.9, 'hidden_layer_sizes': (1000,), 'learning_rate_init': 0.001}\n",
            "\n",
            "0.836 (+/-0.072) for {'alpha': 0.01, 'beta_1': 0.5, 'beta_2': 0.9, 'hidden_layer_sizes': (1000,), 'learning_rate_init': 0.01}\n",
            "\n",
            "0.605 (+/-0.318) for {'alpha': 0.01, 'beta_1': 0.5, 'beta_2': 0.9, 'hidden_layer_sizes': (1000,), 'learning_rate_init': 0.1}\n",
            "\n",
            "0.751 (+/-0.322) for {'alpha': 0.01, 'beta_1': 0.9, 'beta_2': 0.1, 'hidden_layer_sizes': (10,), 'learning_rate_init': 0.001}\n",
            "\n",
            "0.294 (+/-0.253) for {'alpha': 0.01, 'beta_1': 0.9, 'beta_2': 0.1, 'hidden_layer_sizes': (10,), 'learning_rate_init': 0.01}\n",
            "\n",
            "0.186 (+/-0.012) for {'alpha': 0.01, 'beta_1': 0.9, 'beta_2': 0.1, 'hidden_layer_sizes': (10,), 'learning_rate_init': 0.1}\n",
            "\n",
            "0.892 (+/-0.038) for {'alpha': 0.01, 'beta_1': 0.9, 'beta_2': 0.1, 'hidden_layer_sizes': (50,), 'learning_rate_init': 0.001}\n",
            "\n",
            "0.273 (+/-0.257) for {'alpha': 0.01, 'beta_1': 0.9, 'beta_2': 0.1, 'hidden_layer_sizes': (50,), 'learning_rate_init': 0.01}\n",
            "\n",
            "0.180 (+/-0.021) for {'alpha': 0.01, 'beta_1': 0.9, 'beta_2': 0.1, 'hidden_layer_sizes': (50,), 'learning_rate_init': 0.1}\n",
            "\n",
            "0.883 (+/-0.080) for {'alpha': 0.01, 'beta_1': 0.9, 'beta_2': 0.1, 'hidden_layer_sizes': (100,), 'learning_rate_init': 0.001}\n",
            "\n",
            "0.181 (+/-0.022) for {'alpha': 0.01, 'beta_1': 0.9, 'beta_2': 0.1, 'hidden_layer_sizes': (100,), 'learning_rate_init': 0.01}\n",
            "\n",
            "0.184 (+/-0.010) for {'alpha': 0.01, 'beta_1': 0.9, 'beta_2': 0.1, 'hidden_layer_sizes': (100,), 'learning_rate_init': 0.1}\n",
            "\n",
            "0.783 (+/-0.086) for {'alpha': 0.01, 'beta_1': 0.9, 'beta_2': 0.1, 'hidden_layer_sizes': (1000,), 'learning_rate_init': 0.001}\n",
            "\n",
            "0.422 (+/-0.328) for {'alpha': 0.01, 'beta_1': 0.9, 'beta_2': 0.1, 'hidden_layer_sizes': (1000,), 'learning_rate_init': 0.01}\n",
            "\n",
            "0.186 (+/-0.019) for {'alpha': 0.01, 'beta_1': 0.9, 'beta_2': 0.1, 'hidden_layer_sizes': (1000,), 'learning_rate_init': 0.1}\n",
            "\n",
            "0.840 (+/-0.265) for {'alpha': 0.01, 'beta_1': 0.9, 'beta_2': 0.5, 'hidden_layer_sizes': (10,), 'learning_rate_init': 0.001}\n",
            "\n",
            "0.796 (+/-0.140) for {'alpha': 0.01, 'beta_1': 0.9, 'beta_2': 0.5, 'hidden_layer_sizes': (10,), 'learning_rate_init': 0.01}\n",
            "\n",
            "0.190 (+/-0.004) for {'alpha': 0.01, 'beta_1': 0.9, 'beta_2': 0.5, 'hidden_layer_sizes': (10,), 'learning_rate_init': 0.1}\n",
            "\n",
            "0.911 (+/-0.048) for {'alpha': 0.01, 'beta_1': 0.9, 'beta_2': 0.5, 'hidden_layer_sizes': (50,), 'learning_rate_init': 0.001}\n",
            "\n",
            "0.892 (+/-0.038) for {'alpha': 0.01, 'beta_1': 0.9, 'beta_2': 0.5, 'hidden_layer_sizes': (50,), 'learning_rate_init': 0.01}\n",
            "\n",
            "0.215 (+/-0.047) for {'alpha': 0.01, 'beta_1': 0.9, 'beta_2': 0.5, 'hidden_layer_sizes': (50,), 'learning_rate_init': 0.1}\n",
            "\n",
            "0.891 (+/-0.052) for {'alpha': 0.01, 'beta_1': 0.9, 'beta_2': 0.5, 'hidden_layer_sizes': (100,), 'learning_rate_init': 0.001}\n",
            "\n",
            "0.886 (+/-0.028) for {'alpha': 0.01, 'beta_1': 0.9, 'beta_2': 0.5, 'hidden_layer_sizes': (100,), 'learning_rate_init': 0.01}\n",
            "\n",
            "0.203 (+/-0.031) for {'alpha': 0.01, 'beta_1': 0.9, 'beta_2': 0.5, 'hidden_layer_sizes': (100,), 'learning_rate_init': 0.1}\n",
            "\n",
            "0.899 (+/-0.078) for {'alpha': 0.01, 'beta_1': 0.9, 'beta_2': 0.5, 'hidden_layer_sizes': (1000,), 'learning_rate_init': 0.001}\n",
            "\n",
            "0.823 (+/-0.119) for {'alpha': 0.01, 'beta_1': 0.9, 'beta_2': 0.5, 'hidden_layer_sizes': (1000,), 'learning_rate_init': 0.01}\n",
            "\n",
            "0.211 (+/-0.050) for {'alpha': 0.01, 'beta_1': 0.9, 'beta_2': 0.5, 'hidden_layer_sizes': (1000,), 'learning_rate_init': 0.1}\n",
            "\n",
            "0.931 (+/-0.045) for {'alpha': 0.01, 'beta_1': 0.9, 'beta_2': 0.9, 'hidden_layer_sizes': (10,), 'learning_rate_init': 0.001}\n",
            "\n",
            "0.922 (+/-0.049) for {'alpha': 0.01, 'beta_1': 0.9, 'beta_2': 0.9, 'hidden_layer_sizes': (10,), 'learning_rate_init': 0.01}\n",
            "\n",
            "0.663 (+/-0.216) for {'alpha': 0.01, 'beta_1': 0.9, 'beta_2': 0.9, 'hidden_layer_sizes': (10,), 'learning_rate_init': 0.1}\n",
            "\n",
            "0.934 (+/-0.045) for {'alpha': 0.01, 'beta_1': 0.9, 'beta_2': 0.9, 'hidden_layer_sizes': (50,), 'learning_rate_init': 0.001}\n",
            "\n",
            "0.907 (+/-0.061) for {'alpha': 0.01, 'beta_1': 0.9, 'beta_2': 0.9, 'hidden_layer_sizes': (50,), 'learning_rate_init': 0.01}\n",
            "\n",
            "0.834 (+/-0.127) for {'alpha': 0.01, 'beta_1': 0.9, 'beta_2': 0.9, 'hidden_layer_sizes': (50,), 'learning_rate_init': 0.1}\n",
            "\n",
            "0.919 (+/-0.056) for {'alpha': 0.01, 'beta_1': 0.9, 'beta_2': 0.9, 'hidden_layer_sizes': (100,), 'learning_rate_init': 0.001}\n",
            "\n",
            "0.919 (+/-0.044) for {'alpha': 0.01, 'beta_1': 0.9, 'beta_2': 0.9, 'hidden_layer_sizes': (100,), 'learning_rate_init': 0.01}\n",
            "\n",
            "0.768 (+/-0.296) for {'alpha': 0.01, 'beta_1': 0.9, 'beta_2': 0.9, 'hidden_layer_sizes': (100,), 'learning_rate_init': 0.1}\n",
            "\n",
            "0.915 (+/-0.062) for {'alpha': 0.01, 'beta_1': 0.9, 'beta_2': 0.9, 'hidden_layer_sizes': (1000,), 'learning_rate_init': 0.001}\n",
            "\n",
            "0.889 (+/-0.091) for {'alpha': 0.01, 'beta_1': 0.9, 'beta_2': 0.9, 'hidden_layer_sizes': (1000,), 'learning_rate_init': 0.01}\n",
            "\n",
            "0.861 (+/-0.236) for {'alpha': 0.01, 'beta_1': 0.9, 'beta_2': 0.9, 'hidden_layer_sizes': (1000,), 'learning_rate_init': 0.1}\n",
            "\n"
          ],
          "name": "stdout"
        }
      ]
    },
    {
      "cell_type": "code",
      "metadata": {
        "id": "QhJDjJSsdUGi",
        "outputId": "e56a0ccb-e185-4529-f6e8-db1239dcf972"
      },
      "source": [
        "# testing with best parameters.. average performance\n",
        "avg_ann = 0\n",
        "avg_ann_precision = 0\n",
        "avg_ann_recall = 0\n",
        "avg_ann_f1 = 0\n",
        "\n",
        "for i in range(5):\n",
        "    X_train, Y_train_all = shuffle(X_train, Y_train_all, random_state=0)\n",
        "    X_test, Y_test_all = shuffle(X_test, Y_test_all, random_state=0)\n",
        "    model_ANN = MLPClassifier(hidden_layer_sizes= (50,), alpha= 0.01, learning_rate_init = 0.001, beta_1= 0.9, beta_2= 0.9).fit(X_train, Y_train_all)\n",
        "    y_predict_ANN = model_ANN.predict(X_test)\n",
        "    print('Accuracy score:', accuracy_score(Y_test_all, y_predict_ANN))\n",
        "    avg_ann = avg_ann + accuracy_score(Y_test_all, y_predict_ANN)\n",
        "    avg_ann_precision = avg_ann_precision + precision_score(Y_test_all, y_predict_ANN, average = 'weighted')\n",
        "    avg_ann_recall = avg_ann_recall + recall_score(Y_test_all, y_predict_ANN, average = 'weighted')\n",
        "    avg_ann_f1 = avg_ann_f1 + f1_score(Y_test_all, y_predict_ANN, average = 'weighted')\n",
        "    \n",
        "print(avg_ann/5,avg_ann_precision/5, avg_ann_recall/5, avg_ann_f1/5)"
      ],
      "execution_count": null,
      "outputs": [
        {
          "output_type": "stream",
          "text": [
            "Accuracy score: 0.942314217849\n",
            "Accuracy score: 0.949440108585\n",
            "Accuracy score: 0.928741092637\n",
            "Accuracy score: 0.930437733288\n",
            "Accuracy score: 0.942992874109\n",
            "0.938785205294 0.943074767496 0.938785205294 0.938789805376\n"
          ],
          "name": "stdout"
        }
      ]
    },
    {
      "cell_type": "code",
      "metadata": {
        "id": "V0cpKwRSdUGl",
        "outputId": "e6c0947f-dd3e-426c-9b60-065ebd40a44b"
      },
      "source": [
        "# testing with best parameters\n",
        "model_ANN = MLPClassifier(hidden_layer_sizes= (50,), alpha= 0.01, learning_rate_init = 0.001, beta_1= 0.9, beta_2= 0.9).fit(X_train, Y_train_all)\n",
        "y_predict_ANN = model_ANN.predict(X_test)\n",
        "print('Accuracy score:', accuracy_score(Y_test_all, y_predict_ANN))\n",
        "print(classification_report(Y_test_all, y_predict_ANN))"
      ],
      "execution_count": null,
      "outputs": [
        {
          "output_type": "stream",
          "text": [
            "Accuracy score: 0.9440108585\n",
            "             precision    recall  f1-score   support\n",
            "\n",
            "          1       0.90      0.92      0.91       532\n",
            "          2       0.92      0.91      0.91       491\n",
            "          3       1.00      0.98      0.99       537\n",
            "          4       0.93      0.98      0.96       496\n",
            "          5       0.98      0.94      0.96       420\n",
            "          6       0.95      0.92      0.93       471\n",
            "\n",
            "avg / total       0.94      0.94      0.94      2947\n",
            "\n"
          ],
          "name": "stdout"
        }
      ]
    },
    {
      "cell_type": "code",
      "metadata": {
        "id": "gUxWCiopdUGp",
        "outputId": "002fa29d-9f9f-4b43-eb9d-99849c9a6d3b"
      },
      "source": [
        "# testing with best parameters\n",
        "model_ANN = MLPClassifier(hidden_layer_sizes= (1000,), alpha= 0.01, learning_rate_init = 0.001, beta_1= 0.9, beta_2= 0.9).fit(X_train, Y_train_all)\n",
        "y_predict_ANN = model_ANN.predict(X_test)\n",
        "print('Accuracy score:', accuracy_score(Y_test_all, y_predict_ANN))"
      ],
      "execution_count": null,
      "outputs": [
        {
          "output_type": "stream",
          "text": [
            "Accuracy score: 0.934170342721\n"
          ],
          "name": "stdout"
        }
      ]
    },
    {
      "cell_type": "code",
      "metadata": {
        "id": "Xb4jRGOfdUGt",
        "outputId": "bf8053ee-32d7-4577-90ab-523a0742b02f"
      },
      "source": [
        "# Finding best parameter for LR\n",
        "\n",
        "parameters = {\n",
        "    'penalty': ['l1', 'l2'],\n",
        "    'C': [10, 5, 2, 1, 0.5, 0.1]\n",
        "}\n",
        "\n",
        "selector = GridSearchCV(LogisticRegression(), parameters, scoring='accuracy', cv = 5) # Stratified 5 fold\n",
        "selector.fit(X_train, Y_train_all)\n",
        "\n",
        "print('Best parameter set found:')\n",
        "print(selector.best_params_)\n",
        "\n",
        "print('Detailed grid scores:')\n",
        "means = selector.cv_results_['mean_test_score']\n",
        "stds = selector.cv_results_['std_test_score']\n",
        "\n",
        "for mean, std, params in zip(means, stds, selector.cv_results_['params']):\n",
        "    print('%0.3f (+/-%0.03f) for %r' % (mean, std * 2, params))\n",
        "    print()"
      ],
      "execution_count": null,
      "outputs": [
        {
          "output_type": "stream",
          "text": [
            "Best parameter set found:\n",
            "{'C': 2, 'penalty': 'l1'}\n",
            "Detailed grid scores:\n",
            "0.938 (+/-0.051) for {'C': 10, 'penalty': 'l1'}\n",
            "\n",
            "0.939 (+/-0.057) for {'C': 10, 'penalty': 'l2'}\n",
            "\n",
            "0.939 (+/-0.049) for {'C': 5, 'penalty': 'l1'}\n",
            "\n",
            "0.938 (+/-0.057) for {'C': 5, 'penalty': 'l2'}\n",
            "\n",
            "0.941 (+/-0.048) for {'C': 2, 'penalty': 'l1'}\n",
            "\n",
            "0.939 (+/-0.054) for {'C': 2, 'penalty': 'l2'}\n",
            "\n",
            "0.940 (+/-0.050) for {'C': 1, 'penalty': 'l1'}\n",
            "\n",
            "0.938 (+/-0.055) for {'C': 1, 'penalty': 'l2'}\n",
            "\n",
            "0.939 (+/-0.045) for {'C': 0.5, 'penalty': 'l1'}\n",
            "\n",
            "0.936 (+/-0.053) for {'C': 0.5, 'penalty': 'l2'}\n",
            "\n",
            "0.924 (+/-0.048) for {'C': 0.1, 'penalty': 'l1'}\n",
            "\n",
            "0.929 (+/-0.053) for {'C': 0.1, 'penalty': 'l2'}\n",
            "\n"
          ],
          "name": "stdout"
        }
      ]
    },
    {
      "cell_type": "code",
      "metadata": {
        "id": "1vxh7t24dUGx",
        "outputId": "5792c499-3395-421d-dcff-c86d59aa0e0e"
      },
      "source": [
        "# testing with best parameters.. average performance\n",
        "avg_lr = 0\n",
        "avg_lr_precision = 0\n",
        "avg_lr_recall = 0\n",
        "avg_lr_f1 = 0\n",
        "\n",
        "for i in range(5):\n",
        "    X_train, Y_train_all = shuffle(X_train, Y_train_all, random_state=0)\n",
        "    X_test, Y_test_all = shuffle(X_test, Y_test_all, random_state=0)\n",
        "    model_LR = LogisticRegression(penalty='l1', C=2.0).fit(X_train, Y_train_all)\n",
        "    y_predict_LR = model_LR.predict(X_test)\n",
        "    print('Accuracy score:', accuracy_score(Y_test_all, y_predict_LR))\n",
        "    avg_lr = avg_lr + accuracy_score(Y_test_all, y_predict_LR)\n",
        "    avg_lr_precision = avg_lr_precision + precision_score(Y_test_all, y_predict_LR, average = 'macro')\n",
        "    avg_lr_recall = avg_lr_recall + recall_score(Y_test_all, y_predict_LR, average = 'macro')\n",
        "    avg_lr_f1 = avg_lr_f1 + f1_score(Y_test_all, y_predict_LR, average = 'macro')\n",
        "    \n",
        "print(avg_lr/5, avg_lr_precision/5, avg_lr_recall/5, avg_lr_f1/5)"
      ],
      "execution_count": null,
      "outputs": [
        {
          "output_type": "stream",
          "text": [
            "Accuracy score: 0.959619952494\n",
            "Accuracy score: 0.960977265015\n",
            "Accuracy score: 0.959959280624\n",
            "Accuracy score: 0.959959280624\n",
            "Accuracy score: 0.960298608755\n",
            "0.960162877503 0.963629977178 0.959449694638 0.960332966338\n"
          ],
          "name": "stdout"
        }
      ]
    },
    {
      "cell_type": "code",
      "metadata": {
        "id": "oBG0xx2adUG0",
        "outputId": "703eaa42-a9b6-4f26-8c8a-b1d3178441ec"
      },
      "source": [
        " # testing LR with best parameters\n",
        "model_LR = LogisticRegression(penalty='l1', C=2.0).fit(X_train, Y_train_all)\n",
        "y_predict_LR = model_LR.predict(X_test)\n",
        "print('Accuracy score:', accuracy_score(Y_test_all, y_predict_LR))\n",
        "print(classification_report(Y_test_all, y_predict_LR))"
      ],
      "execution_count": null,
      "outputs": [
        {
          "output_type": "stream",
          "text": [
            "Accuracy score: 0.960298608755\n",
            "             precision    recall  f1-score   support\n",
            "\n",
            "          1       0.89      0.98      0.93       532\n",
            "          2       0.98      0.86      0.91       491\n",
            "          3       1.00      1.00      1.00       537\n",
            "          4       0.94      1.00      0.97       496\n",
            "          5       1.00      0.97      0.98       420\n",
            "          6       0.97      0.95      0.96       471\n",
            "\n",
            "avg / total       0.96      0.96      0.96      2947\n",
            "\n"
          ],
          "name": "stdout"
        }
      ]
    },
    {
      "cell_type": "code",
      "metadata": {
        "id": "Bm4fTRRCdUG4"
      },
      "source": [
        "# Welch’s t-test\n",
        "\n",
        "from sklearn.model_selection import train_test_split\n",
        "\n",
        "X_wttest = []\n",
        "Y_wttest = []\n",
        "\n",
        "for i in range(5):\n",
        "    X_ttest, X_ttest1, y_ttest, y_ttest1 = train_test_split(X_test, Y_test_all,\n",
        "                                                stratify=Y_test_all, \n",
        "                                                test_size=0.5)\n",
        "    \n",
        "\n",
        "    X_wttest.append(X_ttest)\n",
        "    X_wttest.append(X_ttest1)\n",
        "    Y_wttest.append(y_ttest)\n",
        "    Y_wttest.append(y_ttest1)"
      ],
      "execution_count": null,
      "outputs": []
    },
    {
      "cell_type": "code",
      "metadata": {
        "scrolled": true,
        "id": "UDa9CZ1GdUHB",
        "outputId": "408e3be2-1fc7-4fef-ddce-997cb1317044"
      },
      "source": [
        "model_SVM_scores = []\n",
        "model_ANN_scores = []\n",
        "model_LR_scores = []\n",
        "\n",
        "for j in range(10):\n",
        "    # t-testing SVM with best parameters\n",
        "    #model_SVM = SVC(kernel='linear', C=1.0).fit(X_train, Y_train_all)\n",
        "    y_predict_SVM = model_SVM.predict(X_wttest[j])\n",
        "    print('Accuracy score SVM:', accuracy_score(Y_wttest[j], y_predict_SVM))\n",
        "    accuracy = accuracy_score(Y_wttest[j], y_predict_SVM)\n",
        "    model_SVM_scores.append(accuracy)\n",
        "    \n",
        "    # ttesting ANN with best parameters\n",
        "    #model_ANN = MLPClassifier(hidden_layer_sizes= (50,), alpha= 0.01, learning_rate_init = 0.001, beta_1= 0.9, beta_2= 0.9).fit(X_train, Y_train_all)\n",
        "    y_predict_ANN = model_ANN.predict(X_wttest[j])\n",
        "    print('Accuracy score ANN:', accuracy_score(Y_wttest[j], y_predict_ANN))\n",
        "    accuracy = accuracy_score(Y_wttest[j], y_predict_ANN)\n",
        "    model_ANN_scores.append(accuracy)\n",
        "    \n",
        "    # ttesting LR with best parameters\n",
        "    #model_LR = LogisticRegression(penalty='l1', C=2.0).fit(X_train, Y_train_all)\n",
        "    y_predict_LR = model_LR.predict(X_wttest[j])\n",
        "    print('Accuracy score LR:', accuracy_score(Y_wttest[j], y_predict_LR))\n",
        "    accuracy = accuracy_score(Y_wttest[j], y_predict_LR)\n",
        "    model_LR_scores.append(accuracy)\n",
        "    "
      ],
      "execution_count": null,
      "outputs": [
        {
          "output_type": "stream",
          "text": [
            "Accuracy score SVM: 0.967413441955\n",
            "Accuracy score ANN: 0.951120162933\n",
            "Accuracy score LR: 0.965376782077\n",
            "Accuracy score SVM: 0.959294436906\n",
            "Accuracy score ANN: 0.946404341927\n",
            "Accuracy score LR: 0.955902306649\n",
            "Accuracy score SVM: 0.965376782077\n",
            "Accuracy score ANN: 0.957230142566\n",
            "Accuracy score LR: 0.9633401222\n",
            "Accuracy score SVM: 0.961329715061\n",
            "Accuracy score ANN: 0.940298507463\n",
            "Accuracy score LR: 0.957937584803\n",
            "Accuracy score SVM: 0.962661235574\n",
            "Accuracy score ANN: 0.949083503055\n",
            "Accuracy score LR: 0.961982348948\n",
            "Accuracy score SVM: 0.964043419267\n",
            "Accuracy score ANN: 0.948439620081\n",
            "Accuracy score LR: 0.959294436906\n",
            "Accuracy score SVM: 0.962661235574\n",
            "Accuracy score ANN: 0.951799049559\n",
            "Accuracy score LR: 0.961303462322\n",
            "Accuracy score SVM: 0.964043419267\n",
            "Accuracy score ANN: 0.945725915875\n",
            "Accuracy score LR: 0.959972862958\n",
            "Accuracy score SVM: 0.965376782077\n",
            "Accuracy score ANN: 0.95655125594\n",
            "Accuracy score LR: 0.962661235574\n",
            "Accuracy score SVM: 0.961329715061\n",
            "Accuracy score ANN: 0.940976933514\n",
            "Accuracy score LR: 0.958616010855\n"
          ],
          "name": "stdout"
        }
      ]
    },
    {
      "cell_type": "code",
      "metadata": {
        "id": "7yc3lYhSdUHG",
        "outputId": "006a1a72-5dff-4b4b-adfb-778a071ad5e7"
      },
      "source": [
        "model_SVM_scores"
      ],
      "execution_count": null,
      "outputs": [
        {
          "output_type": "execute_result",
          "data": {
            "text/plain": [
              "[0.96741344195519352,\n",
              " 0.95929443690637717,\n",
              " 0.96537678207739308,\n",
              " 0.96132971506105835,\n",
              " 0.96266123557365924,\n",
              " 0.96404341926729986,\n",
              " 0.96266123557365924,\n",
              " 0.96404341926729986,\n",
              " 0.96537678207739308,\n",
              " 0.96132971506105835]"
            ]
          },
          "metadata": {
            "tags": []
          },
          "execution_count": 273
        }
      ]
    },
    {
      "cell_type": "code",
      "metadata": {
        "id": "r_cW3AYjdUHJ",
        "outputId": "5f0064b4-2d86-4fda-9780-af83cb1af923"
      },
      "source": [
        "model_ANN_scores"
      ],
      "execution_count": null,
      "outputs": [
        {
          "output_type": "execute_result",
          "data": {
            "text/plain": [
              "[0.95112016293279023,\n",
              " 0.94640434192672995,\n",
              " 0.95723014256619143,\n",
              " 0.94029850746268662,\n",
              " 0.94908350305498979,\n",
              " 0.94843962008141114,\n",
              " 0.95179904955872374,\n",
              " 0.94572591587516963,\n",
              " 0.95655125594025803,\n",
              " 0.94097693351424694]"
            ]
          },
          "metadata": {
            "tags": []
          },
          "execution_count": 274
        }
      ]
    },
    {
      "cell_type": "code",
      "metadata": {
        "id": "MYWctzXqdUHN",
        "outputId": "ad7c08fd-0b2a-4ae7-ee01-46c91d0b7433"
      },
      "source": [
        "model_LR_scores"
      ],
      "execution_count": null,
      "outputs": [
        {
          "output_type": "execute_result",
          "data": {
            "text/plain": [
              "[0.96537678207739308,\n",
              " 0.95590230664857534,\n",
              " 0.96334012219959264,\n",
              " 0.95793758480325641,\n",
              " 0.96198234894772572,\n",
              " 0.95929443690637717,\n",
              " 0.96130346232179231,\n",
              " 0.9599728629579376,\n",
              " 0.96266123557365924,\n",
              " 0.95861601085481685]"
            ]
          },
          "metadata": {
            "tags": []
          },
          "execution_count": 275
        }
      ]
    },
    {
      "cell_type": "code",
      "metadata": {
        "id": "olV7aZiwdUHR",
        "outputId": "1b7c24c5-5e28-43cf-99f5-a646d10bed2d"
      },
      "source": [
        "# t-test SVM vs ANN\n",
        "\n",
        "value, pvalue = ttest_ind(model_SVM_scores, model_ANN_scores, equal_var=True)\n",
        "\n",
        "print(value, pvalue)\n",
        "\n",
        "if pvalue > 0.05:\n",
        "    print('Samples are likely drawn from the same distributions (fail to reject H0)')\n",
        "else:\n",
        "    print('Samples are likely drawn from different distributions (reject H0)')\n"
      ],
      "execution_count": null,
      "outputs": [
        {
          "output_type": "stream",
          "text": [
            "7.44507369022 6.71685176457e-07\n",
            "Samples are likely drawn from different distributions (reject H0)\n"
          ],
          "name": "stdout"
        }
      ]
    },
    {
      "cell_type": "code",
      "metadata": {
        "id": "u1XPpkNQdUHV",
        "outputId": "68521796-0cf9-4794-cb32-b9c8bda69be6"
      },
      "source": [
        "# t-test SVM vs LR\n",
        "\n",
        "value, pvalue = ttest_ind(model_SVM_scores, model_LR_scores, equal_var=True)\n",
        "\n",
        "print(value, pvalue)\n",
        "\n",
        "if pvalue > 0.05:\n",
        "    print('Samples are likely drawn from the same distributions (fail to reject H0)')\n",
        "else:\n",
        "    print('Samples are likely drawn from different distributions (reject H0)')"
      ],
      "execution_count": null,
      "outputs": [
        {
          "output_type": "stream",
          "text": [
            "2.31800378744 0.0324233074802\n",
            "Samples are likely drawn from different distributions (reject H0)\n"
          ],
          "name": "stdout"
        }
      ]
    },
    {
      "cell_type": "code",
      "metadata": {
        "id": "6_GVwX7GdUHa",
        "outputId": "b607204b-6de2-43d5-f38a-01e042036d81"
      },
      "source": [
        "# t-test CNN vs LR\n",
        "\n",
        "value, pvalue = ttest_ind(model_LR_scores, model_ANN_scores, equal_var=True)\n",
        "\n",
        "print(value, pvalue)\n",
        "\n",
        "if pvalue > 0.05:\n",
        "    print('Samples are likely drawn from the same distributions (fail to reject H0)')\n",
        "else:\n",
        "    print('Samples are likely drawn from different distributions (reject H0)')"
      ],
      "execution_count": null,
      "outputs": [
        {
          "output_type": "stream",
          "text": [
            "5.8846395325 1.42856979399e-05\n",
            "Samples are likely drawn from different distributions (reject H0)\n"
          ],
          "name": "stdout"
        }
      ]
    },
    {
      "cell_type": "code",
      "metadata": {
        "id": "zhWfvLPtdUHe",
        "outputId": "25ce2d1f-c8a7-46e0-f31a-e8520eea4fc0"
      },
      "source": [
        "#5 fold 2 cross validation t test SVM vs ANN\n",
        "t, p = paired_ttest_5x2cv(estimator1=model_SVM,\n",
        "                          estimator2=model_ANN,\n",
        "                          X=resultX, y=resultY,\n",
        "                          random_seed=1)\n",
        "\n",
        "print(t, p)\n",
        "\n",
        "if p > 0.05:\n",
        "    print('Samples are likely drawn from the same distributions (fail to reject H0)')\n",
        "else:\n",
        "    print('Samples are likely drawn from different distributions (reject H0)')"
      ],
      "execution_count": null,
      "outputs": [
        {
          "output_type": "stream",
          "text": [
            "3.2429419014047856 0.02287438894007764\n",
            "Samples are likely drawn from different distributions (reject H0)\n"
          ],
          "name": "stdout"
        }
      ]
    },
    {
      "cell_type": "code",
      "metadata": {
        "id": "lv3U9dMydUHi",
        "outputId": "62624769-9d20-41a8-94c4-80118098e46c"
      },
      "source": [
        "#5 fold 2 cross validation t test ANN vs SVM\n",
        "t, p = paired_ttest_5x2cv(estimator1=model_ANN,\n",
        "                          estimator2=model_SVM,\n",
        "                          X=resultX, y=resultY,\n",
        "                          random_seed=1)\n",
        "\n",
        "print(t, p)\n",
        "\n",
        "if p > 0.05:\n",
        "    print('Samples are likely drawn from the same distributions (fail to reject H0)')\n",
        "else:\n",
        "    print('Samples are likely drawn from different distributions (reject H0)')"
      ],
      "execution_count": null,
      "outputs": [
        {
          "output_type": "stream",
          "text": [
            "-4.654560930556191 0.0055592411178122456\n",
            "Samples are likely drawn from different distributions (reject H0)\n"
          ],
          "name": "stdout"
        }
      ]
    },
    {
      "cell_type": "code",
      "metadata": {
        "id": "hJyppDSJdUHl",
        "outputId": "30c31e5f-1c18-41f1-a069-25fb2690fc19"
      },
      "source": [
        "#5 fold 2 cross validation t test SVM vs LR\n",
        "t, p = paired_ttest_5x2cv(estimator1=model_SVM,\n",
        "                          estimator2=model_LR,\n",
        "                          X=resultX, y=resultY,\n",
        "                          random_seed=1)\n",
        "\n",
        "print(t, p)\n",
        "\n",
        "if p > 0.05:\n",
        "    print('Samples are likely drawn from the same distributions (fail to reject H0)')\n",
        "else:\n",
        "    print('Samples are likely drawn from different distributions (reject H0)')"
      ],
      "execution_count": null,
      "outputs": [
        {
          "output_type": "stream",
          "text": [
            "1.174621183435272 0.2930372231193825\n",
            "Samples are likely drawn from the same distributions (fail to reject H0)\n"
          ],
          "name": "stdout"
        }
      ]
    },
    {
      "cell_type": "code",
      "metadata": {
        "id": "4HdaJDnBdUHo",
        "outputId": "c0dbbf94-466e-4bf6-ada9-144c096bc62c"
      },
      "source": [
        "#5 fold 2 cross validation t test LR vs SVM\n",
        "t, p = paired_ttest_5x2cv(estimator1=model_LR,\n",
        "                          estimator2=model_SVM,\n",
        "                          X=resultX, y=resultY,\n",
        "                          random_seed=1)\n",
        "\n",
        "print(t, p)\n",
        "\n",
        "if p > 0.05:\n",
        "    print('Samples are likely drawn from the same distributions (fail to reject H0)')\n",
        "else:\n",
        "    print('Samples are likely drawn from different distributions (reject H0)')"
      ],
      "execution_count": null,
      "outputs": [
        {
          "output_type": "stream",
          "text": [
            "-0.6326421942850714 0.5547657913251776\n",
            "Samples are likely drawn from the same distributions (fail to reject H0)\n"
          ],
          "name": "stdout"
        }
      ]
    },
    {
      "cell_type": "code",
      "metadata": {
        "id": "8-PVS8YSdUHv",
        "outputId": "7c173db9-2dbb-4cf2-91a2-3285dcf720cb"
      },
      "source": [
        "#5 fold 2 cross validation t test LR vs ANN\n",
        "t, p = paired_ttest_5x2cv(estimator1=model_LR,\n",
        "                          estimator2=model_ANN,\n",
        "                          X=resultX, y=resultY,\n",
        "                          random_seed=1)\n",
        "\n",
        "print(t, p)\n",
        "\n",
        "if p > 0.05:\n",
        "    print('Samples are likely drawn from the same distributions (fail to reject H0)')\n",
        "else:\n",
        "    print('Samples are likely drawn from different distributions (reject H0)')"
      ],
      "execution_count": null,
      "outputs": [
        {
          "output_type": "stream",
          "text": [
            "2.7391890834955963 0.04083141243998926\n",
            "Samples are likely drawn from different distributions (reject H0)\n"
          ],
          "name": "stdout"
        }
      ]
    },
    {
      "cell_type": "code",
      "metadata": {
        "id": "Say5RFD6dUH1",
        "outputId": "2b1df6ab-2a6d-466c-8143-81a89c1284c7"
      },
      "source": [
        "#5 fold 2 cross validation t test ANN vs LR\n",
        "t, p = paired_ttest_5x2cv(estimator1=model_ANN,\n",
        "                          estimator2=model_LR,\n",
        "                          X=resultX, y=resultY,\n",
        "                          random_seed=1)\n",
        "\n",
        "print(t, p)\n",
        "\n",
        "if p > 0.05:\n",
        "    print('Samples are likely drawn from the same distributions (fail to reject H0)')\n",
        "else:\n",
        "    print('Samples are likely drawn from different distributions (reject H0)')"
      ],
      "execution_count": null,
      "outputs": [
        {
          "output_type": "stream",
          "text": [
            "-6.1101240688023655 0.0017015706456311444\n",
            "Samples are likely drawn from different distributions (reject H0)\n"
          ],
          "name": "stdout"
        }
      ]
    },
    {
      "cell_type": "code",
      "metadata": {
        "id": "X0YyirG4dUH5"
      },
      "source": [
        ""
      ],
      "execution_count": null,
      "outputs": []
    }
  ]
}